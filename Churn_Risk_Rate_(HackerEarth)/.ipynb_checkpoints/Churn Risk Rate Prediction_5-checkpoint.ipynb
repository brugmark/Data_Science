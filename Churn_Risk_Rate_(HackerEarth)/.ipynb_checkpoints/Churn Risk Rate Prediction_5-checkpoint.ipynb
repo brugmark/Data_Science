{
 "cells": [
  {
   "cell_type": "markdown",
   "metadata": {},
   "source": [
    "# Churn Risk Rate Prediction\n",
    "https://www.hackerearth.com/challenges/competitive/hackerearth-machine-learning-challenge-predict-customer-churn/\n",
    "\n",
    "\n",
    "Apr-2021\n",
    "<br>\n",
    "<br>\n",
    "Author: brugmark\n",
    "<br>\n"
   ]
  },
  {
   "cell_type": "markdown",
   "metadata": {},
   "source": [
    "NA apprach?\n",
    "One hot enconding?\n",
    "What's up?"
   ]
  },
  {
   "cell_type": "markdown",
   "metadata": {},
   "source": [
    "## Introduction\n",
    "This notebook's structure is based on the CRISP-DM methodology (see below) and consists of the following sections:\n",
    "1. Business Understanding\n",
    "2. Data Understanding\n",
    "3. Data Preparation\n",
    "4. Modeling\n",
    "<br>\n",
    "<img src= \"https://st12.ning.com/topology/rest/1.0/file/get/2808314343?profile=original\" width=\"400\">"
   ]
  },
  {
   "cell_type": "markdown",
   "metadata": {},
   "source": [
    "First, let's import some modules:"
   ]
  },
  {
   "cell_type": "code",
   "execution_count": 63,
   "metadata": {},
   "outputs": [],
   "source": [
    "import pandas as pd\n",
    "import seaborn as sns\n",
    "import matplotlib.pyplot as plt\n",
    "import numpy as np\n",
    "from scipy import stats\n",
    "from sklearn.experimental import enable_iterative_imputer\n",
    "from sklearn.impute import IterativeImputer\n",
    "from sklearn.model_selection import GridSearchCV, cross_val_score\n",
    "from sklearn.svm import SVC\n",
    "from sklearn.ensemble import RandomForestClassifier\n",
    "from sklearn.ensemble import GradientBoostingClassifier\n",
    "from xgboost import XGBClassifier\n",
    "from sklearn.neural_network import MLPClassifier\n",
    "from sklearn.model_selection import learning_curve\n",
    "from sklearn.model_selection import train_test_split\n",
    "from sklearn.metrics import confusion_matrix\n",
    "from sklearn.metrics import classification_report\n",
    "from imblearn.over_sampling import SMOTE  # !pip install imblearn\n",
    "from imblearn.pipeline import Pipeline as imbPipeline\n",
    "from sklearn.feature_selection import SelectKBest\n",
    "from sklearn.feature_selection import chi2\n",
    "from sklearn.feature_selection import RFECV\n",
    "from sklearn.metrics import f1_score\n",
    "from sklearn.preprocessing import StandardScaler\n",
    "from sklearn.utils import class_weight, compute_sample_weight\n",
    "from catboost import CatBoostClassifier\n",
    "from sklearn.metrics import accuracy_score\n",
    "from sklearn import preprocessing"
   ]
  },
  {
   "cell_type": "markdown",
   "metadata": {},
   "source": [
    "## 1. Data Understanding\n",
    "To improve our understanding of the data, we will:\n",
    "- Collect data\n",
    "- Describe data\n",
    "- Explore data\n",
    "- Verify data quality"
   ]
  },
  {
   "cell_type": "markdown",
   "metadata": {},
   "source": [
    "### Collect"
   ]
  },
  {
   "cell_type": "code",
   "execution_count": 64,
   "metadata": {},
   "outputs": [],
   "source": [
    "train = pd.read_csv(r'C:\\Users\\MBRU\\PycharmProjects\\GitProjects\\Data_Science\\Churn_Risk_Rate_(HackerEarth)\\train.csv')\n",
    "test = pd.read_csv(r'C:\\Users\\MBRU\\PycharmProjects\\GitProjects\\Data_Science\\Churn_Risk_Rate_(HackerEarth)\\test.csv')"
   ]
  },
  {
   "cell_type": "markdown",
   "metadata": {},
   "source": [
    "### Describe"
   ]
  },
  {
   "cell_type": "markdown",
   "metadata": {},
   "source": [
    "We check the number of rows and columns in the data frame."
   ]
  },
  {
   "cell_type": "code",
   "execution_count": 65,
   "metadata": {},
   "outputs": [
    {
     "data": {
      "text/plain": [
       "(36992, 25)"
      ]
     },
     "execution_count": 65,
     "metadata": {},
     "output_type": "execute_result"
    }
   ],
   "source": [
    "train.shape"
   ]
  },
  {
   "cell_type": "code",
   "execution_count": 66,
   "metadata": {},
   "outputs": [
    {
     "data": {
      "text/plain": [
       "(19919, 24)"
      ]
     },
     "execution_count": 66,
     "metadata": {},
     "output_type": "execute_result"
    }
   ],
   "source": [
    "test.shape"
   ]
  },
  {
   "cell_type": "markdown",
   "metadata": {},
   "source": [
    "Have a quick look at the first 10 rows."
   ]
  },
  {
   "cell_type": "code",
   "execution_count": 67,
   "metadata": {},
   "outputs": [
    {
     "data": {
      "text/html": [
       "<div>\n",
       "<style scoped>\n",
       "    .dataframe tbody tr th:only-of-type {\n",
       "        vertical-align: middle;\n",
       "    }\n",
       "\n",
       "    .dataframe tbody tr th {\n",
       "        vertical-align: top;\n",
       "    }\n",
       "\n",
       "    .dataframe thead th {\n",
       "        text-align: right;\n",
       "    }\n",
       "</style>\n",
       "<table border=\"1\" class=\"dataframe\">\n",
       "  <thead>\n",
       "    <tr style=\"text-align: right;\">\n",
       "      <th></th>\n",
       "      <th>customer_id</th>\n",
       "      <th>Name</th>\n",
       "      <th>age</th>\n",
       "      <th>gender</th>\n",
       "      <th>security_no</th>\n",
       "      <th>region_category</th>\n",
       "      <th>membership_category</th>\n",
       "      <th>joining_date</th>\n",
       "      <th>joined_through_referral</th>\n",
       "      <th>referral_id</th>\n",
       "      <th>...</th>\n",
       "      <th>avg_time_spent</th>\n",
       "      <th>avg_transaction_value</th>\n",
       "      <th>avg_frequency_login_days</th>\n",
       "      <th>points_in_wallet</th>\n",
       "      <th>used_special_discount</th>\n",
       "      <th>offer_application_preference</th>\n",
       "      <th>past_complaint</th>\n",
       "      <th>complaint_status</th>\n",
       "      <th>feedback</th>\n",
       "      <th>churn_risk_score</th>\n",
       "    </tr>\n",
       "  </thead>\n",
       "  <tbody>\n",
       "    <tr>\n",
       "      <th>0</th>\n",
       "      <td>fffe4300490044003600300030003800</td>\n",
       "      <td>Pattie Morrisey</td>\n",
       "      <td>18</td>\n",
       "      <td>F</td>\n",
       "      <td>XW0DQ7H</td>\n",
       "      <td>Village</td>\n",
       "      <td>Platinum Membership</td>\n",
       "      <td>2017-08-17</td>\n",
       "      <td>No</td>\n",
       "      <td>xxxxxxxx</td>\n",
       "      <td>...</td>\n",
       "      <td>300.63</td>\n",
       "      <td>53005.25</td>\n",
       "      <td>17.0</td>\n",
       "      <td>781.75</td>\n",
       "      <td>Yes</td>\n",
       "      <td>Yes</td>\n",
       "      <td>No</td>\n",
       "      <td>Not Applicable</td>\n",
       "      <td>Products always in Stock</td>\n",
       "      <td>2</td>\n",
       "    </tr>\n",
       "    <tr>\n",
       "      <th>1</th>\n",
       "      <td>fffe43004900440032003100300035003700</td>\n",
       "      <td>Traci Peery</td>\n",
       "      <td>32</td>\n",
       "      <td>F</td>\n",
       "      <td>5K0N3X1</td>\n",
       "      <td>City</td>\n",
       "      <td>Premium Membership</td>\n",
       "      <td>2017-08-28</td>\n",
       "      <td>?</td>\n",
       "      <td>CID21329</td>\n",
       "      <td>...</td>\n",
       "      <td>306.34</td>\n",
       "      <td>12838.38</td>\n",
       "      <td>10.0</td>\n",
       "      <td>NaN</td>\n",
       "      <td>Yes</td>\n",
       "      <td>No</td>\n",
       "      <td>Yes</td>\n",
       "      <td>Solved</td>\n",
       "      <td>Quality Customer Care</td>\n",
       "      <td>1</td>\n",
       "    </tr>\n",
       "    <tr>\n",
       "      <th>2</th>\n",
       "      <td>fffe4300490044003100390032003600</td>\n",
       "      <td>Merideth Mcmeen</td>\n",
       "      <td>44</td>\n",
       "      <td>F</td>\n",
       "      <td>1F2TCL3</td>\n",
       "      <td>Town</td>\n",
       "      <td>No Membership</td>\n",
       "      <td>2016-11-11</td>\n",
       "      <td>Yes</td>\n",
       "      <td>CID12313</td>\n",
       "      <td>...</td>\n",
       "      <td>516.16</td>\n",
       "      <td>21027.00</td>\n",
       "      <td>22.0</td>\n",
       "      <td>500.69</td>\n",
       "      <td>No</td>\n",
       "      <td>Yes</td>\n",
       "      <td>Yes</td>\n",
       "      <td>Solved in Follow-up</td>\n",
       "      <td>Poor Website</td>\n",
       "      <td>5</td>\n",
       "    </tr>\n",
       "    <tr>\n",
       "      <th>3</th>\n",
       "      <td>fffe43004900440036003000330031003600</td>\n",
       "      <td>Eufemia Cardwell</td>\n",
       "      <td>37</td>\n",
       "      <td>M</td>\n",
       "      <td>VJGJ33N</td>\n",
       "      <td>City</td>\n",
       "      <td>No Membership</td>\n",
       "      <td>2016-10-29</td>\n",
       "      <td>Yes</td>\n",
       "      <td>CID3793</td>\n",
       "      <td>...</td>\n",
       "      <td>53.27</td>\n",
       "      <td>25239.56</td>\n",
       "      <td>6.0</td>\n",
       "      <td>567.66</td>\n",
       "      <td>No</td>\n",
       "      <td>Yes</td>\n",
       "      <td>Yes</td>\n",
       "      <td>Unsolved</td>\n",
       "      <td>Poor Website</td>\n",
       "      <td>5</td>\n",
       "    </tr>\n",
       "    <tr>\n",
       "      <th>4</th>\n",
       "      <td>fffe43004900440031003900350030003600</td>\n",
       "      <td>Meghan Kosak</td>\n",
       "      <td>31</td>\n",
       "      <td>F</td>\n",
       "      <td>SVZXCWB</td>\n",
       "      <td>City</td>\n",
       "      <td>No Membership</td>\n",
       "      <td>2017-09-12</td>\n",
       "      <td>No</td>\n",
       "      <td>xxxxxxxx</td>\n",
       "      <td>...</td>\n",
       "      <td>113.13</td>\n",
       "      <td>24483.66</td>\n",
       "      <td>16.0</td>\n",
       "      <td>663.06</td>\n",
       "      <td>No</td>\n",
       "      <td>Yes</td>\n",
       "      <td>Yes</td>\n",
       "      <td>Solved</td>\n",
       "      <td>Poor Website</td>\n",
       "      <td>5</td>\n",
       "    </tr>\n",
       "  </tbody>\n",
       "</table>\n",
       "<p>5 rows × 25 columns</p>\n",
       "</div>"
      ],
      "text/plain": [
       "                            customer_id              Name  age gender  \\\n",
       "0      fffe4300490044003600300030003800   Pattie Morrisey   18      F   \n",
       "1  fffe43004900440032003100300035003700       Traci Peery   32      F   \n",
       "2      fffe4300490044003100390032003600   Merideth Mcmeen   44      F   \n",
       "3  fffe43004900440036003000330031003600  Eufemia Cardwell   37      M   \n",
       "4  fffe43004900440031003900350030003600      Meghan Kosak   31      F   \n",
       "\n",
       "  security_no region_category  membership_category joining_date  \\\n",
       "0     XW0DQ7H         Village  Platinum Membership   2017-08-17   \n",
       "1     5K0N3X1            City   Premium Membership   2017-08-28   \n",
       "2     1F2TCL3            Town        No Membership   2016-11-11   \n",
       "3     VJGJ33N            City        No Membership   2016-10-29   \n",
       "4     SVZXCWB            City        No Membership   2017-09-12   \n",
       "\n",
       "  joined_through_referral referral_id  ... avg_time_spent  \\\n",
       "0                      No    xxxxxxxx  ...         300.63   \n",
       "1                       ?    CID21329  ...         306.34   \n",
       "2                     Yes    CID12313  ...         516.16   \n",
       "3                     Yes     CID3793  ...          53.27   \n",
       "4                      No    xxxxxxxx  ...         113.13   \n",
       "\n",
       "  avg_transaction_value avg_frequency_login_days points_in_wallet  \\\n",
       "0              53005.25                     17.0           781.75   \n",
       "1              12838.38                     10.0              NaN   \n",
       "2              21027.00                     22.0           500.69   \n",
       "3              25239.56                      6.0           567.66   \n",
       "4              24483.66                     16.0           663.06   \n",
       "\n",
       "   used_special_discount  offer_application_preference  past_complaint  \\\n",
       "0                    Yes                           Yes              No   \n",
       "1                    Yes                            No             Yes   \n",
       "2                     No                           Yes             Yes   \n",
       "3                     No                           Yes             Yes   \n",
       "4                     No                           Yes             Yes   \n",
       "\n",
       "      complaint_status                  feedback churn_risk_score  \n",
       "0       Not Applicable  Products always in Stock                2  \n",
       "1               Solved     Quality Customer Care                1  \n",
       "2  Solved in Follow-up              Poor Website                5  \n",
       "3             Unsolved              Poor Website                5  \n",
       "4               Solved              Poor Website                5  \n",
       "\n",
       "[5 rows x 25 columns]"
      ]
     },
     "execution_count": 67,
     "metadata": {},
     "output_type": "execute_result"
    }
   ],
   "source": [
    "train.head()"
   ]
  },
  {
   "cell_type": "code",
   "execution_count": 68,
   "metadata": {},
   "outputs": [
    {
     "data": {
      "text/html": [
       "<div>\n",
       "<style scoped>\n",
       "    .dataframe tbody tr th:only-of-type {\n",
       "        vertical-align: middle;\n",
       "    }\n",
       "\n",
       "    .dataframe tbody tr th {\n",
       "        vertical-align: top;\n",
       "    }\n",
       "\n",
       "    .dataframe thead th {\n",
       "        text-align: right;\n",
       "    }\n",
       "</style>\n",
       "<table border=\"1\" class=\"dataframe\">\n",
       "  <thead>\n",
       "    <tr style=\"text-align: right;\">\n",
       "      <th></th>\n",
       "      <th>customer_id</th>\n",
       "      <th>Name</th>\n",
       "      <th>age</th>\n",
       "      <th>gender</th>\n",
       "      <th>security_no</th>\n",
       "      <th>region_category</th>\n",
       "      <th>membership_category</th>\n",
       "      <th>joining_date</th>\n",
       "      <th>joined_through_referral</th>\n",
       "      <th>referral_id</th>\n",
       "      <th>...</th>\n",
       "      <th>days_since_last_login</th>\n",
       "      <th>avg_time_spent</th>\n",
       "      <th>avg_transaction_value</th>\n",
       "      <th>avg_frequency_login_days</th>\n",
       "      <th>points_in_wallet</th>\n",
       "      <th>used_special_discount</th>\n",
       "      <th>offer_application_preference</th>\n",
       "      <th>past_complaint</th>\n",
       "      <th>complaint_status</th>\n",
       "      <th>feedback</th>\n",
       "    </tr>\n",
       "  </thead>\n",
       "  <tbody>\n",
       "    <tr>\n",
       "      <th>0</th>\n",
       "      <td>fffe43004900440031003700300030003400</td>\n",
       "      <td>Alethia Meints</td>\n",
       "      <td>50</td>\n",
       "      <td>F</td>\n",
       "      <td>OQJ1XAY</td>\n",
       "      <td>Village</td>\n",
       "      <td>Premium Membership</td>\n",
       "      <td>2015-11-02</td>\n",
       "      <td>No</td>\n",
       "      <td>xxxxxxxx</td>\n",
       "      <td>...</td>\n",
       "      <td>12</td>\n",
       "      <td>386.26</td>\n",
       "      <td>40721.44</td>\n",
       "      <td>7.0</td>\n",
       "      <td>733.830000</td>\n",
       "      <td>Yes</td>\n",
       "      <td>No</td>\n",
       "      <td>No</td>\n",
       "      <td>Not Applicable</td>\n",
       "      <td>Poor Product Quality</td>\n",
       "    </tr>\n",
       "    <tr>\n",
       "      <th>1</th>\n",
       "      <td>fffe43004900440031003900370037003300</td>\n",
       "      <td>Ming Lopez</td>\n",
       "      <td>41</td>\n",
       "      <td>M</td>\n",
       "      <td>OUQRPKO</td>\n",
       "      <td>Village</td>\n",
       "      <td>Gold Membership</td>\n",
       "      <td>2016-03-01</td>\n",
       "      <td>No</td>\n",
       "      <td>xxxxxxxx</td>\n",
       "      <td>...</td>\n",
       "      <td>11</td>\n",
       "      <td>37.80</td>\n",
       "      <td>9644.40</td>\n",
       "      <td>9.0</td>\n",
       "      <td>726.000000</td>\n",
       "      <td>Yes</td>\n",
       "      <td>No</td>\n",
       "      <td>No</td>\n",
       "      <td>Not Applicable</td>\n",
       "      <td>Poor Website</td>\n",
       "    </tr>\n",
       "    <tr>\n",
       "      <th>2</th>\n",
       "      <td>fffe43004900440034003800360037003000</td>\n",
       "      <td>Carina Flannigan</td>\n",
       "      <td>31</td>\n",
       "      <td>F</td>\n",
       "      <td>02J2RE7</td>\n",
       "      <td>Town</td>\n",
       "      <td>Silver Membership</td>\n",
       "      <td>2017-03-03</td>\n",
       "      <td>No</td>\n",
       "      <td>xxxxxxxx</td>\n",
       "      <td>...</td>\n",
       "      <td>18</td>\n",
       "      <td>215.36</td>\n",
       "      <td>3693.25</td>\n",
       "      <td>21.0</td>\n",
       "      <td>713.780000</td>\n",
       "      <td>Yes</td>\n",
       "      <td>No</td>\n",
       "      <td>Yes</td>\n",
       "      <td>Solved in Follow-up</td>\n",
       "      <td>No reason specified</td>\n",
       "    </tr>\n",
       "    <tr>\n",
       "      <th>3</th>\n",
       "      <td>fffe43004900440036003200370033003400</td>\n",
       "      <td>Kyung Wanner</td>\n",
       "      <td>64</td>\n",
       "      <td>M</td>\n",
       "      <td>5YEQIF1</td>\n",
       "      <td>Town</td>\n",
       "      <td>Silver Membership</td>\n",
       "      <td>2017-08-18</td>\n",
       "      <td>Yes</td>\n",
       "      <td>CID8941</td>\n",
       "      <td>...</td>\n",
       "      <td>-999</td>\n",
       "      <td>44.57</td>\n",
       "      <td>36809.56</td>\n",
       "      <td>11.0</td>\n",
       "      <td>744.970000</td>\n",
       "      <td>Yes</td>\n",
       "      <td>No</td>\n",
       "      <td>Yes</td>\n",
       "      <td>No Information Available</td>\n",
       "      <td>Too many ads</td>\n",
       "    </tr>\n",
       "    <tr>\n",
       "      <th>4</th>\n",
       "      <td>fffe43004900440035003000370031003900</td>\n",
       "      <td>Enola Gatto</td>\n",
       "      <td>16</td>\n",
       "      <td>F</td>\n",
       "      <td>100RYB5</td>\n",
       "      <td>Town</td>\n",
       "      <td>No Membership</td>\n",
       "      <td>2015-05-05</td>\n",
       "      <td>Yes</td>\n",
       "      <td>CID5690</td>\n",
       "      <td>...</td>\n",
       "      <td>6</td>\n",
       "      <td>349.88</td>\n",
       "      <td>40675.86</td>\n",
       "      <td>8.0</td>\n",
       "      <td>299.048351</td>\n",
       "      <td>No</td>\n",
       "      <td>Yes</td>\n",
       "      <td>Yes</td>\n",
       "      <td>Solved in Follow-up</td>\n",
       "      <td>Poor Website</td>\n",
       "    </tr>\n",
       "  </tbody>\n",
       "</table>\n",
       "<p>5 rows × 24 columns</p>\n",
       "</div>"
      ],
      "text/plain": [
       "                            customer_id              Name  age gender  \\\n",
       "0  fffe43004900440031003700300030003400    Alethia Meints   50      F   \n",
       "1  fffe43004900440031003900370037003300        Ming Lopez   41      M   \n",
       "2  fffe43004900440034003800360037003000  Carina Flannigan   31      F   \n",
       "3  fffe43004900440036003200370033003400      Kyung Wanner   64      M   \n",
       "4  fffe43004900440035003000370031003900       Enola Gatto   16      F   \n",
       "\n",
       "  security_no region_category membership_category joining_date  \\\n",
       "0     OQJ1XAY         Village  Premium Membership   2015-11-02   \n",
       "1     OUQRPKO         Village     Gold Membership   2016-03-01   \n",
       "2     02J2RE7            Town   Silver Membership   2017-03-03   \n",
       "3     5YEQIF1            Town   Silver Membership   2017-08-18   \n",
       "4     100RYB5            Town       No Membership   2015-05-05   \n",
       "\n",
       "  joined_through_referral referral_id  ... days_since_last_login  \\\n",
       "0                      No    xxxxxxxx  ...                    12   \n",
       "1                      No    xxxxxxxx  ...                    11   \n",
       "2                      No    xxxxxxxx  ...                    18   \n",
       "3                     Yes     CID8941  ...                  -999   \n",
       "4                     Yes     CID5690  ...                     6   \n",
       "\n",
       "  avg_time_spent avg_transaction_value avg_frequency_login_days  \\\n",
       "0         386.26              40721.44                      7.0   \n",
       "1          37.80               9644.40                      9.0   \n",
       "2         215.36               3693.25                     21.0   \n",
       "3          44.57              36809.56                     11.0   \n",
       "4         349.88              40675.86                      8.0   \n",
       "\n",
       "   points_in_wallet  used_special_discount  offer_application_preference  \\\n",
       "0        733.830000                    Yes                            No   \n",
       "1        726.000000                    Yes                            No   \n",
       "2        713.780000                    Yes                            No   \n",
       "3        744.970000                    Yes                            No   \n",
       "4        299.048351                     No                           Yes   \n",
       "\n",
       "  past_complaint          complaint_status              feedback  \n",
       "0             No            Not Applicable  Poor Product Quality  \n",
       "1             No            Not Applicable          Poor Website  \n",
       "2            Yes       Solved in Follow-up   No reason specified  \n",
       "3            Yes  No Information Available          Too many ads  \n",
       "4            Yes       Solved in Follow-up          Poor Website  \n",
       "\n",
       "[5 rows x 24 columns]"
      ]
     },
     "execution_count": 68,
     "metadata": {},
     "output_type": "execute_result"
    }
   ],
   "source": [
    "test.head()"
   ]
  },
  {
   "cell_type": "markdown",
   "metadata": {},
   "source": [
    "The data types."
   ]
  },
  {
   "cell_type": "code",
   "execution_count": 69,
   "metadata": {},
   "outputs": [
    {
     "name": "stdout",
     "output_type": "stream",
     "text": [
      "<class 'pandas.core.frame.DataFrame'>\n",
      "RangeIndex: 36992 entries, 0 to 36991\n",
      "Data columns (total 25 columns):\n",
      " #   Column                        Non-Null Count  Dtype  \n",
      "---  ------                        --------------  -----  \n",
      " 0   customer_id                   36992 non-null  object \n",
      " 1   Name                          36992 non-null  object \n",
      " 2   age                           36992 non-null  int64  \n",
      " 3   gender                        36992 non-null  object \n",
      " 4   security_no                   36992 non-null  object \n",
      " 5   region_category               31564 non-null  object \n",
      " 6   membership_category           36992 non-null  object \n",
      " 7   joining_date                  36992 non-null  object \n",
      " 8   joined_through_referral       36992 non-null  object \n",
      " 9   referral_id                   36992 non-null  object \n",
      " 10  preferred_offer_types         36704 non-null  object \n",
      " 11  medium_of_operation           36992 non-null  object \n",
      " 12  internet_option               36992 non-null  object \n",
      " 13  last_visit_time               36992 non-null  object \n",
      " 14  days_since_last_login         36992 non-null  int64  \n",
      " 15  avg_time_spent                36992 non-null  float64\n",
      " 16  avg_transaction_value         36992 non-null  float64\n",
      " 17  avg_frequency_login_days      36992 non-null  object \n",
      " 18  points_in_wallet              33549 non-null  float64\n",
      " 19  used_special_discount         36992 non-null  object \n",
      " 20  offer_application_preference  36992 non-null  object \n",
      " 21  past_complaint                36992 non-null  object \n",
      " 22  complaint_status              36992 non-null  object \n",
      " 23  feedback                      36992 non-null  object \n",
      " 24  churn_risk_score              36992 non-null  int64  \n",
      "dtypes: float64(3), int64(3), object(19)\n",
      "memory usage: 7.1+ MB\n"
     ]
    }
   ],
   "source": [
    "train.info()"
   ]
  },
  {
   "cell_type": "code",
   "execution_count": 70,
   "metadata": {},
   "outputs": [
    {
     "name": "stdout",
     "output_type": "stream",
     "text": [
      "<class 'pandas.core.frame.DataFrame'>\n",
      "RangeIndex: 19919 entries, 0 to 19918\n",
      "Data columns (total 24 columns):\n",
      " #   Column                        Non-Null Count  Dtype  \n",
      "---  ------                        --------------  -----  \n",
      " 0   customer_id                   19919 non-null  object \n",
      " 1   Name                          19919 non-null  object \n",
      " 2   age                           19919 non-null  int64  \n",
      " 3   gender                        19919 non-null  object \n",
      " 4   security_no                   19919 non-null  object \n",
      " 5   region_category               16971 non-null  object \n",
      " 6   membership_category           19919 non-null  object \n",
      " 7   joining_date                  19919 non-null  object \n",
      " 8   joined_through_referral       19919 non-null  object \n",
      " 9   referral_id                   19919 non-null  object \n",
      " 10  preferred_offer_types         19760 non-null  object \n",
      " 11  medium_of_operation           19919 non-null  object \n",
      " 12  internet_option               19919 non-null  object \n",
      " 13  last_visit_time               19919 non-null  object \n",
      " 14  days_since_last_login         19919 non-null  int64  \n",
      " 15  avg_time_spent                19919 non-null  float64\n",
      " 16  avg_transaction_value         19919 non-null  float64\n",
      " 17  avg_frequency_login_days      19919 non-null  object \n",
      " 18  points_in_wallet              17956 non-null  float64\n",
      " 19  used_special_discount         19919 non-null  object \n",
      " 20  offer_application_preference  19919 non-null  object \n",
      " 21  past_complaint                19919 non-null  object \n",
      " 22  complaint_status              19919 non-null  object \n",
      " 23  feedback                      19919 non-null  object \n",
      "dtypes: float64(3), int64(2), object(19)\n",
      "memory usage: 3.6+ MB\n"
     ]
    }
   ],
   "source": [
    "test.info()"
   ]
  },
  {
   "cell_type": "markdown",
   "metadata": {},
   "source": [
    "And we generate some descriptive statistics."
   ]
  },
  {
   "cell_type": "code",
   "execution_count": 71,
   "metadata": {},
   "outputs": [
    {
     "data": {
      "text/html": [
       "<div>\n",
       "<style scoped>\n",
       "    .dataframe tbody tr th:only-of-type {\n",
       "        vertical-align: middle;\n",
       "    }\n",
       "\n",
       "    .dataframe tbody tr th {\n",
       "        vertical-align: top;\n",
       "    }\n",
       "\n",
       "    .dataframe thead th {\n",
       "        text-align: right;\n",
       "    }\n",
       "</style>\n",
       "<table border=\"1\" class=\"dataframe\">\n",
       "  <thead>\n",
       "    <tr style=\"text-align: right;\">\n",
       "      <th></th>\n",
       "      <th>age</th>\n",
       "      <th>days_since_last_login</th>\n",
       "      <th>avg_time_spent</th>\n",
       "      <th>avg_transaction_value</th>\n",
       "      <th>points_in_wallet</th>\n",
       "      <th>churn_risk_score</th>\n",
       "    </tr>\n",
       "  </thead>\n",
       "  <tbody>\n",
       "    <tr>\n",
       "      <th>count</th>\n",
       "      <td>36992.000000</td>\n",
       "      <td>36992.000000</td>\n",
       "      <td>36992.000000</td>\n",
       "      <td>36992.000000</td>\n",
       "      <td>33549.000000</td>\n",
       "      <td>36992.000000</td>\n",
       "    </tr>\n",
       "    <tr>\n",
       "      <th>mean</th>\n",
       "      <td>37.118161</td>\n",
       "      <td>-41.915576</td>\n",
       "      <td>243.472334</td>\n",
       "      <td>29271.194003</td>\n",
       "      <td>686.882199</td>\n",
       "      <td>3.463397</td>\n",
       "    </tr>\n",
       "    <tr>\n",
       "      <th>std</th>\n",
       "      <td>15.867412</td>\n",
       "      <td>228.819900</td>\n",
       "      <td>398.289149</td>\n",
       "      <td>19444.806226</td>\n",
       "      <td>194.063624</td>\n",
       "      <td>1.409661</td>\n",
       "    </tr>\n",
       "    <tr>\n",
       "      <th>min</th>\n",
       "      <td>10.000000</td>\n",
       "      <td>-999.000000</td>\n",
       "      <td>-2814.109110</td>\n",
       "      <td>800.460000</td>\n",
       "      <td>-760.661236</td>\n",
       "      <td>-1.000000</td>\n",
       "    </tr>\n",
       "    <tr>\n",
       "      <th>25%</th>\n",
       "      <td>23.000000</td>\n",
       "      <td>8.000000</td>\n",
       "      <td>60.102500</td>\n",
       "      <td>14177.540000</td>\n",
       "      <td>616.150000</td>\n",
       "      <td>3.000000</td>\n",
       "    </tr>\n",
       "    <tr>\n",
       "      <th>50%</th>\n",
       "      <td>37.000000</td>\n",
       "      <td>12.000000</td>\n",
       "      <td>161.765000</td>\n",
       "      <td>27554.485000</td>\n",
       "      <td>697.620000</td>\n",
       "      <td>4.000000</td>\n",
       "    </tr>\n",
       "    <tr>\n",
       "      <th>75%</th>\n",
       "      <td>51.000000</td>\n",
       "      <td>16.000000</td>\n",
       "      <td>356.515000</td>\n",
       "      <td>40855.110000</td>\n",
       "      <td>763.950000</td>\n",
       "      <td>5.000000</td>\n",
       "    </tr>\n",
       "    <tr>\n",
       "      <th>max</th>\n",
       "      <td>64.000000</td>\n",
       "      <td>26.000000</td>\n",
       "      <td>3235.578521</td>\n",
       "      <td>99914.050000</td>\n",
       "      <td>2069.069761</td>\n",
       "      <td>5.000000</td>\n",
       "    </tr>\n",
       "  </tbody>\n",
       "</table>\n",
       "</div>"
      ],
      "text/plain": [
       "                age  days_since_last_login  avg_time_spent  \\\n",
       "count  36992.000000           36992.000000    36992.000000   \n",
       "mean      37.118161             -41.915576      243.472334   \n",
       "std       15.867412             228.819900      398.289149   \n",
       "min       10.000000            -999.000000    -2814.109110   \n",
       "25%       23.000000               8.000000       60.102500   \n",
       "50%       37.000000              12.000000      161.765000   \n",
       "75%       51.000000              16.000000      356.515000   \n",
       "max       64.000000              26.000000     3235.578521   \n",
       "\n",
       "       avg_transaction_value  points_in_wallet  churn_risk_score  \n",
       "count           36992.000000      33549.000000      36992.000000  \n",
       "mean            29271.194003        686.882199          3.463397  \n",
       "std             19444.806226        194.063624          1.409661  \n",
       "min               800.460000       -760.661236         -1.000000  \n",
       "25%             14177.540000        616.150000          3.000000  \n",
       "50%             27554.485000        697.620000          4.000000  \n",
       "75%             40855.110000        763.950000          5.000000  \n",
       "max             99914.050000       2069.069761          5.000000  "
      ]
     },
     "execution_count": 71,
     "metadata": {},
     "output_type": "execute_result"
    }
   ],
   "source": [
    "train.describe()"
   ]
  },
  {
   "cell_type": "code",
   "execution_count": 72,
   "metadata": {},
   "outputs": [
    {
     "data": {
      "text/html": [
       "<div>\n",
       "<style scoped>\n",
       "    .dataframe tbody tr th:only-of-type {\n",
       "        vertical-align: middle;\n",
       "    }\n",
       "\n",
       "    .dataframe tbody tr th {\n",
       "        vertical-align: top;\n",
       "    }\n",
       "\n",
       "    .dataframe thead th {\n",
       "        text-align: right;\n",
       "    }\n",
       "</style>\n",
       "<table border=\"1\" class=\"dataframe\">\n",
       "  <thead>\n",
       "    <tr style=\"text-align: right;\">\n",
       "      <th></th>\n",
       "      <th>age</th>\n",
       "      <th>days_since_last_login</th>\n",
       "      <th>avg_time_spent</th>\n",
       "      <th>avg_transaction_value</th>\n",
       "      <th>points_in_wallet</th>\n",
       "    </tr>\n",
       "  </thead>\n",
       "  <tbody>\n",
       "    <tr>\n",
       "      <th>count</th>\n",
       "      <td>19919.000000</td>\n",
       "      <td>19919.000000</td>\n",
       "      <td>19919.000000</td>\n",
       "      <td>19919.000000</td>\n",
       "      <td>17956.000000</td>\n",
       "    </tr>\n",
       "    <tr>\n",
       "      <th>mean</th>\n",
       "      <td>36.884432</td>\n",
       "      <td>-39.216527</td>\n",
       "      <td>244.134926</td>\n",
       "      <td>29318.122196</td>\n",
       "      <td>685.968794</td>\n",
       "    </tr>\n",
       "    <tr>\n",
       "      <th>std</th>\n",
       "      <td>15.917311</td>\n",
       "      <td>223.274420</td>\n",
       "      <td>403.910806</td>\n",
       "      <td>19507.775429</td>\n",
       "      <td>192.152979</td>\n",
       "    </tr>\n",
       "    <tr>\n",
       "      <th>min</th>\n",
       "      <td>10.000000</td>\n",
       "      <td>-999.000000</td>\n",
       "      <td>-2180.780796</td>\n",
       "      <td>803.710000</td>\n",
       "      <td>-465.289977</td>\n",
       "    </tr>\n",
       "    <tr>\n",
       "      <th>25%</th>\n",
       "      <td>23.000000</td>\n",
       "      <td>8.000000</td>\n",
       "      <td>59.360000</td>\n",
       "      <td>14236.200000</td>\n",
       "      <td>615.730000</td>\n",
       "    </tr>\n",
       "    <tr>\n",
       "      <th>50%</th>\n",
       "      <td>37.000000</td>\n",
       "      <td>12.000000</td>\n",
       "      <td>161.240000</td>\n",
       "      <td>27564.050000</td>\n",
       "      <td>698.110000</td>\n",
       "    </tr>\n",
       "    <tr>\n",
       "      <th>75%</th>\n",
       "      <td>51.000000</td>\n",
       "      <td>16.000000</td>\n",
       "      <td>354.195000</td>\n",
       "      <td>40969.400000</td>\n",
       "      <td>764.732500</td>\n",
       "    </tr>\n",
       "    <tr>\n",
       "      <th>max</th>\n",
       "      <td>64.000000</td>\n",
       "      <td>26.000000</td>\n",
       "      <td>3350.060000</td>\n",
       "      <td>99995.030000</td>\n",
       "      <td>2019.671602</td>\n",
       "    </tr>\n",
       "  </tbody>\n",
       "</table>\n",
       "</div>"
      ],
      "text/plain": [
       "                age  days_since_last_login  avg_time_spent  \\\n",
       "count  19919.000000           19919.000000    19919.000000   \n",
       "mean      36.884432             -39.216527      244.134926   \n",
       "std       15.917311             223.274420      403.910806   \n",
       "min       10.000000            -999.000000    -2180.780796   \n",
       "25%       23.000000               8.000000       59.360000   \n",
       "50%       37.000000              12.000000      161.240000   \n",
       "75%       51.000000              16.000000      354.195000   \n",
       "max       64.000000              26.000000     3350.060000   \n",
       "\n",
       "       avg_transaction_value  points_in_wallet  \n",
       "count           19919.000000      17956.000000  \n",
       "mean            29318.122196        685.968794  \n",
       "std             19507.775429        192.152979  \n",
       "min               803.710000       -465.289977  \n",
       "25%             14236.200000        615.730000  \n",
       "50%             27564.050000        698.110000  \n",
       "75%             40969.400000        764.732500  \n",
       "max             99995.030000       2019.671602  "
      ]
     },
     "execution_count": 72,
     "metadata": {},
     "output_type": "execute_result"
    }
   ],
   "source": [
    "test.describe()"
   ]
  },
  {
   "cell_type": "markdown",
   "metadata": {},
   "source": [
    "### Explore"
   ]
  },
  {
   "cell_type": "markdown",
   "metadata": {},
   "source": [
    "Let's have a look at the distribution of the target feature 'churn_risk_score' by plotting a histogram (below). It shows that the distribution is left skewed. "
   ]
  },
  {
   "cell_type": "code",
   "execution_count": 73,
   "metadata": {},
   "outputs": [],
   "source": [
    "target = 'churn_risk_score'"
   ]
  },
  {
   "cell_type": "code",
   "execution_count": 74,
   "metadata": {},
   "outputs": [
    {
     "data": {
      "text/plain": [
       "array([ 2,  1,  5,  3,  4, -1], dtype=int64)"
      ]
     },
     "execution_count": 74,
     "metadata": {},
     "output_type": "execute_result"
    }
   ],
   "source": [
    "train[target].unique()"
   ]
  },
  {
   "cell_type": "code",
   "execution_count": 75,
   "metadata": {},
   "outputs": [
    {
     "data": {
      "text/plain": [
       "<AxesSubplot:ylabel='Frequency'>"
      ]
     },
     "execution_count": 75,
     "metadata": {},
     "output_type": "execute_result"
    },
    {
     "data": {
      "image/png": "[encoded data removed]",
      "text/plain": [
       "<Figure size 1080x720 with 1 Axes>"
      ]
     },
     "metadata": {
      "needs_background": "light"
     },
     "output_type": "display_data"
    }
   ],
   "source": [
    "plt.figure('churn_risk_score histogram', figsize=(15,10))\n",
    "count, bin_edges = np.histogram(train[target].dropna(), 6)\n",
    "train[target].plot(kind='hist', bins=6, xticks=bin_edges)"
   ]
  },
  {
   "cell_type": "markdown",
   "metadata": {},
   "source": [
    "Next, the data is split in numerical (float64 or int64) and categorical features (e.g. str)."
   ]
  },
  {
   "cell_type": "code",
   "execution_count": 76,
   "metadata": {},
   "outputs": [],
   "source": [
    "num_ftrs = train._get_numeric_data()\n",
    "cat_ftrs = pd.concat([train.drop(num_ftrs.columns, axis=1), train[target]], axis=1)\n",
    "num_ftrs_test = test._get_numeric_data()\n",
    "cat_ftrs_test = test.drop(num_ftrs_test.columns, axis=1)"
   ]
  },
  {
   "cell_type": "code",
   "execution_count": 77,
   "metadata": {},
   "outputs": [
    {
     "data": {
      "image/png": "[encoded data removed]",
      "text/plain": [
       "<Figure size 1080x720 with 2 Axes>"
      ]
     },
     "metadata": {
      "needs_background": "light"
     },
     "output_type": "display_data"
    }
   ],
   "source": [
    "plt.figure('Correlation matrix', figsize=(15,10))\n",
    "corr_matrix = num_ftrs.corr().round(2)\n",
    "corr_heat = sns.heatmap(num_ftrs.corr(), annot=True)"
   ]
  },
  {
   "cell_type": "markdown",
   "metadata": {},
   "source": [
    "Next, we will look at the categorical data. But first, we will extract features that are actually numerical: 'joining_date' and 'avg_frequency_login_days', and drop features that do not contain useful information: 'customer_id', 'Name', 'security_no', 'referral_id', and 'last_visit_time'."
   ]
  },
  {
   "cell_type": "code",
   "execution_count": 78,
   "metadata": {},
   "outputs": [],
   "source": [
    "num_ftrs2 = cat_ftrs[['joining_date', 'avg_frequency_login_days']]\n",
    "num_ftrs2_test = cat_ftrs_test[['joining_date', 'avg_frequency_login_days']]\n",
    "cat_ftrs.drop(['customer_id', 'Name', 'security_no', 'referral_id', 'last_visit_time', 'joining_date', 'avg_frequency_login_days'], axis=1, inplace=True)\n",
    "cat_ftrs_test.drop(['customer_id', 'Name', 'security_no', 'referral_id', 'last_visit_time', 'joining_date', 'avg_frequency_login_days'], axis=1, inplace=True)"
   ]
  },
  {
   "cell_type": "markdown",
   "metadata": {},
   "source": [
    "The next step is to visualize the relation between the categorical features and the target feature using box and bar plots."
   ]
  },
  {
   "cell_type": "code",
   "execution_count": 79,
   "metadata": {},
   "outputs": [
    {
     "data": {
      "image/png": "[encoded data removed]",
      "text/plain": [
       "<Figure size 1080x360 with 2 Axes>"
      ]
     },
     "metadata": {
      "needs_background": "light"
     },
     "output_type": "display_data"
    },
    {
     "data": {
      "image/png": "[encoded data removed]",
      "text/plain": [
       "<Figure size 1080x360 with 2 Axes>"
      ]
     },
     "metadata": {
      "needs_background": "light"
     },
     "output_type": "display_data"
    },
    {
     "data": {
      "image/png": "[encoded data removed]",
      "text/plain": [
       "<Figure size 1080x360 with 2 Axes>"
      ]
     },
     "metadata": {
      "needs_background": "light"
     },
     "output_type": "display_data"
    },
    {
     "data": {
      "image/png": "[encoded data removed]",
      "text/plain": [
       "<Figure size 1080x360 with 2 Axes>"
      ]
     },
     "metadata": {
      "needs_background": "light"
     },
     "output_type": "display_data"
    },
    {
     "data": {
      "image/png": "[encoded data removed]",
      "text/plain": [
       "<Figure size 1080x360 with 2 Axes>"
      ]
     },
     "metadata": {
      "needs_background": "light"
     },
     "output_type": "display_data"
    },
    {
     "data": {
      "image/png": "[encoded data removed]",
      "text/plain": [
       "<Figure size 1080x360 with 2 Axes>"
      ]
     },
     "metadata": {
      "needs_background": "light"
     },
     "output_type": "display_data"
    },
    {
     "data": {
      "image/png": "[encoded data removed]",
      "text/plain": [
       "<Figure size 1080x360 with 2 Axes>"
      ]
     },
     "metadata": {
      "needs_background": "light"
     },
     "output_type": "display_data"
    },
    {
     "data": {
      "image/png": "[encoded data removed]",
      "text/plain": [
       "<Figure size 1080x360 with 2 Axes>"
      ]
     },
     "metadata": {
      "needs_background": "light"
     },
     "output_type": "display_data"
    },
    {
     "data": {
      "image/png": "[encoded data removed]",
      "text/plain": [
       "<Figure size 1080x360 with 2 Axes>"
      ]
     },
     "metadata": {
      "needs_background": "light"
     },
     "output_type": "display_data"
    },
    {
     "data": {
      "image/png": "[encoded data removed]",
      "text/plain": [
       "<Figure size 1080x360 with 2 Axes>"
      ]
     },
     "metadata": {
      "needs_background": "light"
     },
     "output_type": "display_data"
    },
    {
     "data": {
      "image/png": "[encoded data removed]",
      "text/plain": [
       "<Figure size 1080x360 with 2 Axes>"
      ]
     },
     "metadata": {
      "needs_background": "light"
     },
     "output_type": "display_data"
    },
    {
     "data": {
      "image/png": "[encoded data removed]",
      "text/plain": [
       "<Figure size 1080x360 with 2 Axes>"
      ]
     },
     "metadata": {
      "needs_background": "light"
     },
     "output_type": "display_data"
    }
   ],
   "source": [
    "for col in cat_ftrs.columns[:-1]:\n",
    "    fig = plt.figure('Box & bar plots ' + col, figsize=(15, 5))\n",
    "    ax0 = fig.add_subplot(1, 2, 1)\n",
    "    ax1 = fig.add_subplot(1, 2, 2)\n",
    "    \n",
    "    plt.xticks(rotation=70)\n",
    "    sns.boxplot(x=str(col), y=target, data=cat_ftrs, showmeans=True, meanline=True, ax=ax0)\n",
    "    ax0.tick_params(axis='x', rotation=90)\n",
    "    \n",
    "    data_bar = pd.concat([cat_ftrs[target], pd.get_dummies(cat_ftrs[col])], axis=1)\n",
    "    data_grp = data_bar.groupby(target).sum()\n",
    "    for cat in data_grp.columns:\n",
    "        data_grp[cat] = data_grp[cat] / data_grp[cat].sum(0) * 100\n",
    "    data_grp.plot(kind='bar', ax=ax1)\n",
    "    plt.ylabel('[%]')"
   ]
  },
  {
   "cell_type": "markdown",
   "metadata": {},
   "source": [
    "### Verify data quality\n",
    "#### Missing data"
   ]
  },
  {
   "cell_type": "markdown",
   "metadata": {},
   "source": [
    "Next, we will check for missing data. The plots above revealed missing data for the following features:\n",
    "- gender: 'unknown'\n",
    "- joined_through_referral: '?'\n",
    "- medium_of_operation: '?'\n",
    "- avg_frequency_login_days: 'Error'"
   ]
  },
  {
   "cell_type": "markdown",
   "metadata": {},
   "source": [
    "All these missing values will be transformed to 'NaN'."
   ]
  },
  {
   "cell_type": "code",
   "execution_count": 80,
   "metadata": {},
   "outputs": [
    {
     "name": "stderr",
     "output_type": "stream",
     "text": [
      "C:\\Users\\MBRU\\Anaconda3\\lib\\site-packages\\pandas\\core\\series.py:4563: SettingWithCopyWarning: \n",
      "A value is trying to be set on a copy of a slice from a DataFrame\n",
      "\n",
      "See the caveats in the documentation: https://pandas.pydata.org/pandas-docs/stable/user_guide/indexing.html#returning-a-view-versus-a-copy\n",
      "  return super().replace(\n",
      "<ipython-input-80-2761918e1853>:11: SettingWithCopyWarning: \n",
      "A value is trying to be set on a copy of a slice from a DataFrame.\n",
      "Try using .loc[row_indexer,col_indexer] = value instead\n",
      "\n",
      "See the caveats in the documentation: https://pandas.pydata.org/pandas-docs/stable/user_guide/indexing.html#returning-a-view-versus-a-copy\n",
      "  num_ftrs2['avg_frequency_login_days'] = num_ftrs2['avg_frequency_login_days'].astype(float)\n",
      "<ipython-input-80-2761918e1853>:14: SettingWithCopyWarning: \n",
      "A value is trying to be set on a copy of a slice from a DataFrame.\n",
      "Try using .loc[row_indexer,col_indexer] = value instead\n",
      "\n",
      "See the caveats in the documentation: https://pandas.pydata.org/pandas-docs/stable/user_guide/indexing.html#returning-a-view-versus-a-copy\n",
      "  num_ftrs2_test['avg_frequency_login_days'] = num_ftrs2_test['avg_frequency_login_days'].astype(float)\n"
     ]
    }
   ],
   "source": [
    "cat_ftrs['gender'].replace('Unknown', float('nan'), inplace=True)\n",
    "cat_ftrs_test['gender'].replace('Unknown', float('nan'), inplace=True)\n",
    "\n",
    "cat_ftrs['joined_through_referral'].replace('?', float('NaN'), inplace=True)\n",
    "cat_ftrs_test['joined_through_referral'].replace('?', float('NaN'), inplace=True)\n",
    "\n",
    "cat_ftrs['medium_of_operation'].replace('?', float('nan'), inplace=True)\n",
    "cat_ftrs_test['medium_of_operation'].replace('?', float('nan'), inplace=True)\n",
    "\n",
    "num_ftrs2['avg_frequency_login_days'].replace('Error', float('NaN'), inplace=True)\n",
    "num_ftrs2['avg_frequency_login_days'] = num_ftrs2['avg_frequency_login_days'].astype(float)\n",
    "\n",
    "num_ftrs2_test['avg_frequency_login_days'].replace('Error', float('NaN'), inplace=True)\n",
    "num_ftrs2_test['avg_frequency_login_days'] = num_ftrs2_test['avg_frequency_login_days'].astype(float)"
   ]
  },
  {
   "cell_type": "code",
   "execution_count": 81,
   "metadata": {},
   "outputs": [
    {
     "data": {
      "text/plain": [
       "Index(['gender', 'region_category', 'membership_category',\n",
       "       'joined_through_referral', 'preferred_offer_types',\n",
       "       'medium_of_operation', 'internet_option', 'used_special_discount',\n",
       "       'offer_application_preference', 'past_complaint', 'complaint_status',\n",
       "       'feedback', 'churn_risk_score'],\n",
       "      dtype='object')"
      ]
     },
     "execution_count": 81,
     "metadata": {},
     "output_type": "execute_result"
    }
   ],
   "source": [
    "cat_ftrs.columns"
   ]
  },
  {
   "cell_type": "code",
   "execution_count": 82,
   "metadata": {},
   "outputs": [
    {
     "data": {
      "text/plain": [
       "Index(['gender', 'region_category', 'membership_category',\n",
       "       'joined_through_referral', 'preferred_offer_types',\n",
       "       'medium_of_operation', 'internet_option', 'used_special_discount',\n",
       "       'offer_application_preference', 'past_complaint', 'complaint_status',\n",
       "       'feedback'],\n",
       "      dtype='object')"
      ]
     },
     "execution_count": 82,
     "metadata": {},
     "output_type": "execute_result"
    }
   ],
   "source": [
    "cat_ftrs_test.columns"
   ]
  },
  {
   "cell_type": "code",
   "execution_count": 83,
   "metadata": {},
   "outputs": [],
   "source": [
    "cat_ftrs.drop(target, axis=1, inplace=True)"
   ]
  },
  {
   "cell_type": "code",
   "execution_count": 84,
   "metadata": {},
   "outputs": [],
   "source": [
    "train = pd.concat([cat_ftrs, num_ftrs, num_ftrs2], axis=1)\n",
    "test = pd.concat([cat_ftrs_test, num_ftrs_test, num_ftrs2_test], axis=1)"
   ]
  },
  {
   "cell_type": "code",
   "execution_count": 85,
   "metadata": {},
   "outputs": [
    {
     "data": {
      "text/plain": [
       "Index(['gender', 'region_category', 'membership_category',\n",
       "       'joined_through_referral', 'preferred_offer_types',\n",
       "       'medium_of_operation', 'internet_option', 'used_special_discount',\n",
       "       'offer_application_preference', 'past_complaint', 'complaint_status',\n",
       "       'feedback', 'age', 'days_since_last_login', 'avg_time_spent',\n",
       "       'avg_transaction_value', 'points_in_wallet', 'churn_risk_score',\n",
       "       'joining_date', 'avg_frequency_login_days'],\n",
       "      dtype='object')"
      ]
     },
     "execution_count": 85,
     "metadata": {},
     "output_type": "execute_result"
    }
   ],
   "source": [
    "train.columns"
   ]
  },
  {
   "cell_type": "code",
   "execution_count": 86,
   "metadata": {},
   "outputs": [
    {
     "data": {
      "text/plain": [
       "Index(['gender', 'region_category', 'membership_category',\n",
       "       'joined_through_referral', 'preferred_offer_types',\n",
       "       'medium_of_operation', 'internet_option', 'used_special_discount',\n",
       "       'offer_application_preference', 'past_complaint', 'complaint_status',\n",
       "       'feedback', 'age', 'days_since_last_login', 'avg_time_spent',\n",
       "       'avg_transaction_value', 'points_in_wallet', 'joining_date',\n",
       "       'avg_frequency_login_days'],\n",
       "      dtype='object')"
      ]
     },
     "execution_count": 86,
     "metadata": {},
     "output_type": "execute_result"
    }
   ],
   "source": [
    "test.columns"
   ]
  },
  {
   "cell_type": "markdown",
   "metadata": {},
   "source": [
    "Next, the missing data is visualized."
   ]
  },
  {
   "cell_type": "code",
   "execution_count": 87,
   "metadata": {},
   "outputs": [
    {
     "data": {
      "text/plain": [
       "<AxesSubplot:ylabel='Missing data [%]'>"
      ]
     },
     "execution_count": 87,
     "metadata": {},
     "output_type": "execute_result"
    },
    {
     "data": {
      "image/png": "[encoded data removed]",
      "text/plain": [
       "<Figure size 1080x720 with 1 Axes>"
      ]
     },
     "metadata": {
      "needs_background": "light"
     },
     "output_type": "display_data"
    }
   ],
   "source": [
    "# Plot missing data [%]\n",
    "plt.figure('Missing data', figsize=(15,10))\n",
    "plt.ylabel('Missing data [%]')\n",
    "nan = (train.isnull().sum() / len(train)) * 100\n",
    "nan = nan[nan > 0].sort_values(ascending=False)\n",
    "nan[1:].plot(kind='bar')"
   ]
  },
  {
   "cell_type": "markdown",
   "metadata": {},
   "source": [
    "#### Outliers\n",
    "Subsequently, we will look for potential outliers in the numerical data. These are identified by calculating the z-score. This represents how many standard deviations a value deviates from the mean. The farther away, the more likely the value is an outlier. In the plots below, a value with a z-score of 3 or more is colored red. Please keep in mind that red indicates a potential outlier which is not necessarily an actual outlier!\n",
    "\n",
    "Looking at the scatterplots below, it becomes clear that the features 'days_since_last_login', 'avg_time_spent', and 'churn_risk_score' contain \"outliers\" for sure. This can be concluded because some of the values not only deviate a lot from the mean, but are also negative which is not realistic looking at the nature of the features (e.g. time spent cannot be negative)."
   ]
  },
  {
   "cell_type": "code",
   "execution_count": 88,
   "metadata": {},
   "outputs": [
    {
     "data": {
      "image/png": "[encoded data removed]",
      "text/plain": [
       "<Figure size 432x288 with 1 Axes>"
      ]
     },
     "metadata": {
      "needs_background": "light"
     },
     "output_type": "display_data"
    },
    {
     "data": {
      "image/png": "[encoded data removed]",
      "text/plain": [
       "<Figure size 432x288 with 1 Axes>"
      ]
     },
     "metadata": {
      "needs_background": "light"
     },
     "output_type": "display_data"
    },
    {
     "data": {
      "image/png": "[encoded data removed]",
      "text/plain": [
       "<Figure size 432x288 with 1 Axes>"
      ]
     },
     "metadata": {
      "needs_background": "light"
     },
     "output_type": "display_data"
    },
    {
     "data": {
      "image/png": "[encoded data removed]",
      "text/plain": [
       "<Figure size 432x288 with 1 Axes>"
      ]
     },
     "metadata": {
      "needs_background": "light"
     },
     "output_type": "display_data"
    },
    {
     "data": {
      "image/png": "[encoded data removed]",
      "text/plain": [
       "<Figure size 432x288 with 1 Axes>"
      ]
     },
     "metadata": {
      "needs_background": "light"
     },
     "output_type": "display_data"
    },
    {
     "data": {
      "image/png": "[encoded data removed]",
      "text/plain": [
       "<Figure size 432x288 with 1 Axes>"
      ]
     },
     "metadata": {
      "needs_background": "light"
     },
     "output_type": "display_data"
    }
   ],
   "source": [
    "# Check potential outliers\n",
    "dic_out = {}\n",
    "for col in num_ftrs.columns:\n",
    "    nna = num_ftrs[num_ftrs[col].notna()]\n",
    "    nna.reset_index(drop=True, inplace=True)\n",
    "    out = np.array(nna[col])\n",
    "    z_score = abs(stats.zscore(out))\n",
    "    out_index = np.where(z_score > 3)\n",
    "    out_count = len(out_index[0])\n",
    "    dic_out[col] = {}\n",
    "    dic_out[col]['values'] = num_ftrs[col].dropna()\n",
    "    dic_out[col]['z_score'] = z_score\n",
    "    dic_out[col]['out_index'] = list(out_index[0])\n",
    "    dic_out[col]['out_count '] = out_count\n",
    "    # Plot\n",
    "    fig = plt.figure(col + ' outliers')\n",
    "    ax0 = fig.add_subplot(1, 1, 1)\n",
    "    nna.plot.scatter('churn_risk_score', col, color='b', ax=ax0)\n",
    "    nna.loc[dic_out[col]['out_index'], :].plot.scatter('churn_risk_score', col, color='r', ax=ax0)"
   ]
  },
  {
   "cell_type": "markdown",
   "metadata": {},
   "source": [
    "# 3. Data Preparation\n",
    "The following steps are taken to prepare the data:\n",
    "- Reformat\n",
    "- Clean\n",
    "- Standardize"
   ]
  },
  {
   "cell_type": "markdown",
   "metadata": {},
   "source": [
    "### Reformat\n",
    "The feature 'joining_date' needs to be reformatted to the numerical feature 'days_since_joined' to allow the algorithm to \"read\" these data. "
   ]
  },
  {
   "cell_type": "code",
   "execution_count": 89,
   "metadata": {},
   "outputs": [],
   "source": [
    "latest_date = pd.to_datetime(max(train['joining_date']))\n",
    "for df in train, test:\n",
    "    df['joining_date'] = pd.to_datetime(df['joining_date'])\n",
    "    df['joining_date'] = latest_date - df['joining_date']\n",
    "    df['joining_date'] = df['joining_date'].dt.days\n",
    "    df.rename(columns={'joining_date': 'days_since_joined'}, inplace=True)"
   ]
  },
  {
   "cell_type": "markdown",
   "metadata": {},
   "source": [
    "### Clean"
   ]
  },
  {
   "cell_type": "markdown",
   "metadata": {},
   "source": [
    "Outlier removal (see outlier plots in section Exploration)"
   ]
  },
  {
   "cell_type": "code",
   "execution_count": 90,
   "metadata": {},
   "outputs": [],
   "source": [
    "for column in ['days_since_last_login', 'avg_time_spent']:\n",
    "    train[column] = [float('NaN') if value < 0 else value for value in train[column]]\n",
    "    test[column] = [float('NaN') if value < 0 else value for value in test[column]]"
   ]
  },
  {
   "cell_type": "markdown",
   "metadata": {},
   "source": [
    "Fill missing values (\"NaN\")"
   ]
  },
  {
   "cell_type": "code",
   "execution_count": 91,
   "metadata": {},
   "outputs": [],
   "source": [
    "for col in nan.index.drop('points_in_wallet'):\n",
    "    train[col].replace(float('NaN'), train[col].mode()[0], inplace=True)\n",
    "    test[col].replace(float('NaN'), train[col].mode()[0], inplace=True)"
   ]
  },
  {
   "cell_type": "code",
   "execution_count": 92,
   "metadata": {},
   "outputs": [],
   "source": [
    "for col in ['points_in_wallet', 'avg_time_spent', 'days_since_last_login']:\n",
    "    train[col].replace(float('NaN'), train[col].mean(), inplace=True)\n",
    "    test[col].replace(float('NaN'), train[col].mean(), inplace=True)"
   ]
  },
  {
   "cell_type": "markdown",
   "metadata": {},
   "source": [
    "Correct target"
   ]
  },
  {
   "cell_type": "code",
   "execution_count": 93,
   "metadata": {},
   "outputs": [],
   "source": [
    "bool = train['churn_risk_score'] > 0\n",
    "train = train.loc[bool]\n",
    "# Set 5 to 0 for training (after prediction revert it back)\n",
    "# train['churn_risk_score'].replace(5, 0, inplace=True)"
   ]
  },
  {
   "cell_type": "markdown",
   "metadata": {},
   "source": [
    "### Encoding"
   ]
  },
  {
   "cell_type": "code",
   "execution_count": 94,
   "metadata": {},
   "outputs": [],
   "source": [
    "num_ftrs = train._get_numeric_data()\n",
    "cat_ftrs = train.drop(num_ftrs.columns, axis=1)\n",
    "num_ftrs_test = test._get_numeric_data()\n",
    "cat_ftrs_test = test.drop(num_ftrs_test.columns, axis=1)"
   ]
  },
  {
   "cell_type": "code",
   "execution_count": 95,
   "metadata": {},
   "outputs": [
    {
     "data": {
      "text/html": [
       "<div>\n",
       "<style scoped>\n",
       "    .dataframe tbody tr th:only-of-type {\n",
       "        vertical-align: middle;\n",
       "    }\n",
       "\n",
       "    .dataframe tbody tr th {\n",
       "        vertical-align: top;\n",
       "    }\n",
       "\n",
       "    .dataframe thead th {\n",
       "        text-align: right;\n",
       "    }\n",
       "</style>\n",
       "<table border=\"1\" class=\"dataframe\">\n",
       "  <thead>\n",
       "    <tr style=\"text-align: right;\">\n",
       "      <th></th>\n",
       "      <th>gender</th>\n",
       "      <th>region_category</th>\n",
       "      <th>membership_category</th>\n",
       "      <th>joined_through_referral</th>\n",
       "      <th>preferred_offer_types</th>\n",
       "      <th>medium_of_operation</th>\n",
       "      <th>internet_option</th>\n",
       "      <th>used_special_discount</th>\n",
       "      <th>offer_application_preference</th>\n",
       "      <th>past_complaint</th>\n",
       "      <th>complaint_status</th>\n",
       "      <th>feedback</th>\n",
       "    </tr>\n",
       "  </thead>\n",
       "  <tbody>\n",
       "    <tr>\n",
       "      <th>0</th>\n",
       "      <td>F</td>\n",
       "      <td>Village</td>\n",
       "      <td>Platinum Membership</td>\n",
       "      <td>No</td>\n",
       "      <td>Gift Vouchers/Coupons</td>\n",
       "      <td>Desktop</td>\n",
       "      <td>Wi-Fi</td>\n",
       "      <td>Yes</td>\n",
       "      <td>Yes</td>\n",
       "      <td>No</td>\n",
       "      <td>Not Applicable</td>\n",
       "      <td>Products always in Stock</td>\n",
       "    </tr>\n",
       "    <tr>\n",
       "      <th>1</th>\n",
       "      <td>F</td>\n",
       "      <td>City</td>\n",
       "      <td>Premium Membership</td>\n",
       "      <td>No</td>\n",
       "      <td>Gift Vouchers/Coupons</td>\n",
       "      <td>Desktop</td>\n",
       "      <td>Mobile_Data</td>\n",
       "      <td>Yes</td>\n",
       "      <td>No</td>\n",
       "      <td>Yes</td>\n",
       "      <td>Solved</td>\n",
       "      <td>Quality Customer Care</td>\n",
       "    </tr>\n",
       "    <tr>\n",
       "      <th>2</th>\n",
       "      <td>F</td>\n",
       "      <td>Town</td>\n",
       "      <td>No Membership</td>\n",
       "      <td>Yes</td>\n",
       "      <td>Gift Vouchers/Coupons</td>\n",
       "      <td>Desktop</td>\n",
       "      <td>Wi-Fi</td>\n",
       "      <td>No</td>\n",
       "      <td>Yes</td>\n",
       "      <td>Yes</td>\n",
       "      <td>Solved in Follow-up</td>\n",
       "      <td>Poor Website</td>\n",
       "    </tr>\n",
       "    <tr>\n",
       "      <th>3</th>\n",
       "      <td>M</td>\n",
       "      <td>City</td>\n",
       "      <td>No Membership</td>\n",
       "      <td>Yes</td>\n",
       "      <td>Gift Vouchers/Coupons</td>\n",
       "      <td>Desktop</td>\n",
       "      <td>Mobile_Data</td>\n",
       "      <td>No</td>\n",
       "      <td>Yes</td>\n",
       "      <td>Yes</td>\n",
       "      <td>Unsolved</td>\n",
       "      <td>Poor Website</td>\n",
       "    </tr>\n",
       "    <tr>\n",
       "      <th>4</th>\n",
       "      <td>F</td>\n",
       "      <td>City</td>\n",
       "      <td>No Membership</td>\n",
       "      <td>No</td>\n",
       "      <td>Credit/Debit Card Offers</td>\n",
       "      <td>Smartphone</td>\n",
       "      <td>Mobile_Data</td>\n",
       "      <td>No</td>\n",
       "      <td>Yes</td>\n",
       "      <td>Yes</td>\n",
       "      <td>Solved</td>\n",
       "      <td>Poor Website</td>\n",
       "    </tr>\n",
       "  </tbody>\n",
       "</table>\n",
       "</div>"
      ],
      "text/plain": [
       "  gender region_category  membership_category joined_through_referral  \\\n",
       "0      F         Village  Platinum Membership                      No   \n",
       "1      F            City   Premium Membership                      No   \n",
       "2      F            Town        No Membership                     Yes   \n",
       "3      M            City        No Membership                     Yes   \n",
       "4      F            City        No Membership                      No   \n",
       "\n",
       "      preferred_offer_types medium_of_operation internet_option  \\\n",
       "0     Gift Vouchers/Coupons             Desktop           Wi-Fi   \n",
       "1     Gift Vouchers/Coupons             Desktop     Mobile_Data   \n",
       "2     Gift Vouchers/Coupons             Desktop           Wi-Fi   \n",
       "3     Gift Vouchers/Coupons             Desktop     Mobile_Data   \n",
       "4  Credit/Debit Card Offers          Smartphone     Mobile_Data   \n",
       "\n",
       "  used_special_discount offer_application_preference past_complaint  \\\n",
       "0                   Yes                          Yes             No   \n",
       "1                   Yes                           No            Yes   \n",
       "2                    No                          Yes            Yes   \n",
       "3                    No                          Yes            Yes   \n",
       "4                    No                          Yes            Yes   \n",
       "\n",
       "      complaint_status                  feedback  \n",
       "0       Not Applicable  Products always in Stock  \n",
       "1               Solved     Quality Customer Care  \n",
       "2  Solved in Follow-up              Poor Website  \n",
       "3             Unsolved              Poor Website  \n",
       "4               Solved              Poor Website  "
      ]
     },
     "execution_count": 95,
     "metadata": {},
     "output_type": "execute_result"
    }
   ],
   "source": [
    "cat_ftrs.head()"
   ]
  },
  {
   "cell_type": "code",
   "execution_count": 96,
   "metadata": {},
   "outputs": [],
   "source": [
    "dic_map = {}\n",
    "dic_map['gender'] = {'F': 0, 'M': 1}\n",
    "dic_map['region_category'] = {'Village': 1, 'Town': 2, 'City': 3}\n",
    "dic_map['membership_category'] = {'No Membership': 1, \n",
    "                                  'Basic Membership': 2, \n",
    "                                  'Silver Membership': 3, \n",
    "                                  'Gold Membership': 4, \n",
    "                                  'Platinum Membership': 5, \n",
    "                                  'Premium Membership': 6}\n",
    "dic_map['joined_through_referral'] = {'No': 0, 'Yes': 1}\n",
    "dic_map['used_special_discount'] = {'No': 0, 'Yes': 1}\n",
    "dic_map['offer_application_preference'] = {'No': 0, 'Yes': 1}\n",
    "dic_map['past_complaint'] = {'No': 0, 'Yes': 1}\n",
    "dic_map['feedback'] = {'No reason specified': 0,  # negative\n",
    "                       'Poor Customer Service': 0,\n",
    "                       'Poor Product Quality': 0,\n",
    "                       'Poor Website': 0,\n",
    "                       'Too many ads': 0,\n",
    "                       'Products always in Stock': 1,\n",
    "                       'Quality Customer Care': 1,\n",
    "                       'Reasonable Price': 1,\n",
    "                       'User Friendly Website': 1\n",
    "                      }  # positive\n",
    "\n",
    "for var in dic_map:\n",
    "    cat_ftrs[var] = cat_ftrs[var].map(dic_map[var])"
   ]
  },
  {
   "cell_type": "code",
   "execution_count": 97,
   "metadata": {},
   "outputs": [
    {
     "data": {
      "text/html": [
       "<div>\n",
       "<style scoped>\n",
       "    .dataframe tbody tr th:only-of-type {\n",
       "        vertical-align: middle;\n",
       "    }\n",
       "\n",
       "    .dataframe tbody tr th {\n",
       "        vertical-align: top;\n",
       "    }\n",
       "\n",
       "    .dataframe thead th {\n",
       "        text-align: right;\n",
       "    }\n",
       "</style>\n",
       "<table border=\"1\" class=\"dataframe\">\n",
       "  <thead>\n",
       "    <tr style=\"text-align: right;\">\n",
       "      <th></th>\n",
       "      <th>gender</th>\n",
       "      <th>region_category</th>\n",
       "      <th>membership_category</th>\n",
       "      <th>joined_through_referral</th>\n",
       "      <th>preferred_offer_types</th>\n",
       "      <th>medium_of_operation</th>\n",
       "      <th>internet_option</th>\n",
       "      <th>used_special_discount</th>\n",
       "      <th>offer_application_preference</th>\n",
       "      <th>past_complaint</th>\n",
       "      <th>complaint_status</th>\n",
       "      <th>feedback</th>\n",
       "    </tr>\n",
       "  </thead>\n",
       "  <tbody>\n",
       "    <tr>\n",
       "      <th>0</th>\n",
       "      <td>0</td>\n",
       "      <td>1</td>\n",
       "      <td>5</td>\n",
       "      <td>0</td>\n",
       "      <td>Gift Vouchers/Coupons</td>\n",
       "      <td>Desktop</td>\n",
       "      <td>Wi-Fi</td>\n",
       "      <td>1</td>\n",
       "      <td>1</td>\n",
       "      <td>0</td>\n",
       "      <td>Not Applicable</td>\n",
       "      <td>1</td>\n",
       "    </tr>\n",
       "    <tr>\n",
       "      <th>1</th>\n",
       "      <td>0</td>\n",
       "      <td>3</td>\n",
       "      <td>6</td>\n",
       "      <td>0</td>\n",
       "      <td>Gift Vouchers/Coupons</td>\n",
       "      <td>Desktop</td>\n",
       "      <td>Mobile_Data</td>\n",
       "      <td>1</td>\n",
       "      <td>0</td>\n",
       "      <td>1</td>\n",
       "      <td>Solved</td>\n",
       "      <td>1</td>\n",
       "    </tr>\n",
       "    <tr>\n",
       "      <th>2</th>\n",
       "      <td>0</td>\n",
       "      <td>2</td>\n",
       "      <td>1</td>\n",
       "      <td>1</td>\n",
       "      <td>Gift Vouchers/Coupons</td>\n",
       "      <td>Desktop</td>\n",
       "      <td>Wi-Fi</td>\n",
       "      <td>0</td>\n",
       "      <td>1</td>\n",
       "      <td>1</td>\n",
       "      <td>Solved in Follow-up</td>\n",
       "      <td>0</td>\n",
       "    </tr>\n",
       "    <tr>\n",
       "      <th>3</th>\n",
       "      <td>1</td>\n",
       "      <td>3</td>\n",
       "      <td>1</td>\n",
       "      <td>1</td>\n",
       "      <td>Gift Vouchers/Coupons</td>\n",
       "      <td>Desktop</td>\n",
       "      <td>Mobile_Data</td>\n",
       "      <td>0</td>\n",
       "      <td>1</td>\n",
       "      <td>1</td>\n",
       "      <td>Unsolved</td>\n",
       "      <td>0</td>\n",
       "    </tr>\n",
       "    <tr>\n",
       "      <th>4</th>\n",
       "      <td>0</td>\n",
       "      <td>3</td>\n",
       "      <td>1</td>\n",
       "      <td>0</td>\n",
       "      <td>Credit/Debit Card Offers</td>\n",
       "      <td>Smartphone</td>\n",
       "      <td>Mobile_Data</td>\n",
       "      <td>0</td>\n",
       "      <td>1</td>\n",
       "      <td>1</td>\n",
       "      <td>Solved</td>\n",
       "      <td>0</td>\n",
       "    </tr>\n",
       "  </tbody>\n",
       "</table>\n",
       "</div>"
      ],
      "text/plain": [
       "   gender  region_category  membership_category  joined_through_referral  \\\n",
       "0       0                1                    5                        0   \n",
       "1       0                3                    6                        0   \n",
       "2       0                2                    1                        1   \n",
       "3       1                3                    1                        1   \n",
       "4       0                3                    1                        0   \n",
       "\n",
       "      preferred_offer_types medium_of_operation internet_option  \\\n",
       "0     Gift Vouchers/Coupons             Desktop           Wi-Fi   \n",
       "1     Gift Vouchers/Coupons             Desktop     Mobile_Data   \n",
       "2     Gift Vouchers/Coupons             Desktop           Wi-Fi   \n",
       "3     Gift Vouchers/Coupons             Desktop     Mobile_Data   \n",
       "4  Credit/Debit Card Offers          Smartphone     Mobile_Data   \n",
       "\n",
       "   used_special_discount  offer_application_preference  past_complaint  \\\n",
       "0                      1                             1               0   \n",
       "1                      1                             0               1   \n",
       "2                      0                             1               1   \n",
       "3                      0                             1               1   \n",
       "4                      0                             1               1   \n",
       "\n",
       "      complaint_status  feedback  \n",
       "0       Not Applicable         1  \n",
       "1               Solved         1  \n",
       "2  Solved in Follow-up         0  \n",
       "3             Unsolved         0  \n",
       "4               Solved         0  "
      ]
     },
     "execution_count": 97,
     "metadata": {},
     "output_type": "execute_result"
    }
   ],
   "source": [
    "cat_ftrs.head()"
   ]
  },
  {
   "cell_type": "code",
   "execution_count": 98,
   "metadata": {},
   "outputs": [],
   "source": [
    "dumm_ftrs = cat_ftrs[['preferred_offer_types', 'medium_of_operation', 'internet_option', 'complaint_status']]\n",
    "dumm_ftrs = pd.get_dummies(dumm_ftrs)\n",
    "cat_ftrs.drop(['preferred_offer_types', 'medium_of_operation', 'internet_option', 'complaint_status'], axis=1, inplace=True)\n",
    "cat_ftrs = pd.concat([dumm_ftrs, cat_ftrs], axis=1)\n",
    "cat_ftrs = cat_ftrs.reindex(sorted(cat_ftrs.columns, key=str.casefold), axis=1)"
   ]
  },
  {
   "cell_type": "code",
   "execution_count": 99,
   "metadata": {},
   "outputs": [
    {
     "name": "stdout",
     "output_type": "stream",
     "text": [
      "<class 'pandas.core.frame.DataFrame'>\n",
      "Int64Index: 35829 entries, 0 to 36991\n",
      "Data columns (total 22 columns):\n",
      " #   Column                                          Non-Null Count  Dtype\n",
      "---  ------                                          --------------  -----\n",
      " 0   complaint_status_No Information Available       35829 non-null  uint8\n",
      " 1   complaint_status_Not Applicable                 35829 non-null  uint8\n",
      " 2   complaint_status_Solved                         35829 non-null  uint8\n",
      " 3   complaint_status_Solved in Follow-up            35829 non-null  uint8\n",
      " 4   complaint_status_Unsolved                       35829 non-null  uint8\n",
      " 5   feedback                                        35829 non-null  int64\n",
      " 6   gender                                          35829 non-null  int64\n",
      " 7   internet_option_Fiber_Optic                     35829 non-null  uint8\n",
      " 8   internet_option_Mobile_Data                     35829 non-null  uint8\n",
      " 9   internet_option_Wi-Fi                           35829 non-null  uint8\n",
      " 10  joined_through_referral                         35829 non-null  int64\n",
      " 11  medium_of_operation_Both                        35829 non-null  uint8\n",
      " 12  medium_of_operation_Desktop                     35829 non-null  uint8\n",
      " 13  medium_of_operation_Smartphone                  35829 non-null  uint8\n",
      " 14  membership_category                             35829 non-null  int64\n",
      " 15  offer_application_preference                    35829 non-null  int64\n",
      " 16  past_complaint                                  35829 non-null  int64\n",
      " 17  preferred_offer_types_Credit/Debit Card Offers  35829 non-null  uint8\n",
      " 18  preferred_offer_types_Gift Vouchers/Coupons     35829 non-null  uint8\n",
      " 19  preferred_offer_types_Without Offers            35829 non-null  uint8\n",
      " 20  region_category                                 35829 non-null  int64\n",
      " 21  used_special_discount                           35829 non-null  int64\n",
      "dtypes: int64(8), uint8(14)\n",
      "memory usage: 2.9 MB\n"
     ]
    }
   ],
   "source": [
    "cat_ftrs.info()"
   ]
  },
  {
   "cell_type": "code",
   "execution_count": 100,
   "metadata": {},
   "outputs": [],
   "source": [
    "train = pd.concat([cat_ftrs, num_ftrs], axis=1)\n",
    "test = pd.concat([cat_ftrs_test, num_ftrs_test], axis=1)"
   ]
  },
  {
   "cell_type": "code",
   "execution_count": 101,
   "metadata": {},
   "outputs": [],
   "source": [
    "train = train.reindex(sorted(train.columns, key=str.casefold), axis=1)\n",
    "test = test.reindex(sorted(test.columns, key=str.casefold), axis=1)"
   ]
  },
  {
   "cell_type": "code",
   "execution_count": 102,
   "metadata": {},
   "outputs": [
    {
     "data": {
      "text/html": [
       "<div>\n",
       "<style scoped>\n",
       "    .dataframe tbody tr th:only-of-type {\n",
       "        vertical-align: middle;\n",
       "    }\n",
       "\n",
       "    .dataframe tbody tr th {\n",
       "        vertical-align: top;\n",
       "    }\n",
       "\n",
       "    .dataframe thead th {\n",
       "        text-align: right;\n",
       "    }\n",
       "</style>\n",
       "<table border=\"1\" class=\"dataframe\">\n",
       "  <thead>\n",
       "    <tr style=\"text-align: right;\">\n",
       "      <th></th>\n",
       "      <th>age</th>\n",
       "      <th>avg_frequency_login_days</th>\n",
       "      <th>avg_time_spent</th>\n",
       "      <th>avg_transaction_value</th>\n",
       "      <th>churn_risk_score</th>\n",
       "      <th>complaint_status_No Information Available</th>\n",
       "      <th>complaint_status_Not Applicable</th>\n",
       "      <th>complaint_status_Solved</th>\n",
       "      <th>complaint_status_Solved in Follow-up</th>\n",
       "      <th>complaint_status_Unsolved</th>\n",
       "      <th>...</th>\n",
       "      <th>medium_of_operation_Smartphone</th>\n",
       "      <th>membership_category</th>\n",
       "      <th>offer_application_preference</th>\n",
       "      <th>past_complaint</th>\n",
       "      <th>points_in_wallet</th>\n",
       "      <th>preferred_offer_types_Credit/Debit Card Offers</th>\n",
       "      <th>preferred_offer_types_Gift Vouchers/Coupons</th>\n",
       "      <th>preferred_offer_types_Without Offers</th>\n",
       "      <th>region_category</th>\n",
       "      <th>used_special_discount</th>\n",
       "    </tr>\n",
       "  </thead>\n",
       "  <tbody>\n",
       "    <tr>\n",
       "      <th>0</th>\n",
       "      <td>18</td>\n",
       "      <td>17.0</td>\n",
       "      <td>300.63</td>\n",
       "      <td>53005.25</td>\n",
       "      <td>2</td>\n",
       "      <td>0</td>\n",
       "      <td>1</td>\n",
       "      <td>0</td>\n",
       "      <td>0</td>\n",
       "      <td>0</td>\n",
       "      <td>...</td>\n",
       "      <td>0</td>\n",
       "      <td>5</td>\n",
       "      <td>1</td>\n",
       "      <td>0</td>\n",
       "      <td>781.750000</td>\n",
       "      <td>0</td>\n",
       "      <td>1</td>\n",
       "      <td>0</td>\n",
       "      <td>1</td>\n",
       "      <td>1</td>\n",
       "    </tr>\n",
       "    <tr>\n",
       "      <th>1</th>\n",
       "      <td>32</td>\n",
       "      <td>10.0</td>\n",
       "      <td>306.34</td>\n",
       "      <td>12838.38</td>\n",
       "      <td>1</td>\n",
       "      <td>0</td>\n",
       "      <td>0</td>\n",
       "      <td>1</td>\n",
       "      <td>0</td>\n",
       "      <td>0</td>\n",
       "      <td>...</td>\n",
       "      <td>0</td>\n",
       "      <td>6</td>\n",
       "      <td>0</td>\n",
       "      <td>1</td>\n",
       "      <td>686.882199</td>\n",
       "      <td>0</td>\n",
       "      <td>1</td>\n",
       "      <td>0</td>\n",
       "      <td>3</td>\n",
       "      <td>1</td>\n",
       "    </tr>\n",
       "    <tr>\n",
       "      <th>2</th>\n",
       "      <td>44</td>\n",
       "      <td>22.0</td>\n",
       "      <td>516.16</td>\n",
       "      <td>21027.00</td>\n",
       "      <td>5</td>\n",
       "      <td>0</td>\n",
       "      <td>0</td>\n",
       "      <td>0</td>\n",
       "      <td>1</td>\n",
       "      <td>0</td>\n",
       "      <td>...</td>\n",
       "      <td>0</td>\n",
       "      <td>1</td>\n",
       "      <td>1</td>\n",
       "      <td>1</td>\n",
       "      <td>500.690000</td>\n",
       "      <td>0</td>\n",
       "      <td>1</td>\n",
       "      <td>0</td>\n",
       "      <td>2</td>\n",
       "      <td>0</td>\n",
       "    </tr>\n",
       "    <tr>\n",
       "      <th>3</th>\n",
       "      <td>37</td>\n",
       "      <td>6.0</td>\n",
       "      <td>53.27</td>\n",
       "      <td>25239.56</td>\n",
       "      <td>5</td>\n",
       "      <td>0</td>\n",
       "      <td>0</td>\n",
       "      <td>0</td>\n",
       "      <td>0</td>\n",
       "      <td>1</td>\n",
       "      <td>...</td>\n",
       "      <td>0</td>\n",
       "      <td>1</td>\n",
       "      <td>1</td>\n",
       "      <td>1</td>\n",
       "      <td>567.660000</td>\n",
       "      <td>0</td>\n",
       "      <td>1</td>\n",
       "      <td>0</td>\n",
       "      <td>3</td>\n",
       "      <td>0</td>\n",
       "    </tr>\n",
       "    <tr>\n",
       "      <th>4</th>\n",
       "      <td>31</td>\n",
       "      <td>16.0</td>\n",
       "      <td>113.13</td>\n",
       "      <td>24483.66</td>\n",
       "      <td>5</td>\n",
       "      <td>0</td>\n",
       "      <td>0</td>\n",
       "      <td>1</td>\n",
       "      <td>0</td>\n",
       "      <td>0</td>\n",
       "      <td>...</td>\n",
       "      <td>1</td>\n",
       "      <td>1</td>\n",
       "      <td>1</td>\n",
       "      <td>1</td>\n",
       "      <td>663.060000</td>\n",
       "      <td>1</td>\n",
       "      <td>0</td>\n",
       "      <td>0</td>\n",
       "      <td>3</td>\n",
       "      <td>0</td>\n",
       "    </tr>\n",
       "  </tbody>\n",
       "</table>\n",
       "<p>5 rows × 30 columns</p>\n",
       "</div>"
      ],
      "text/plain": [
       "   age  avg_frequency_login_days  avg_time_spent  avg_transaction_value  \\\n",
       "0   18                      17.0          300.63               53005.25   \n",
       "1   32                      10.0          306.34               12838.38   \n",
       "2   44                      22.0          516.16               21027.00   \n",
       "3   37                       6.0           53.27               25239.56   \n",
       "4   31                      16.0          113.13               24483.66   \n",
       "\n",
       "   churn_risk_score  complaint_status_No Information Available  \\\n",
       "0                 2                                          0   \n",
       "1                 1                                          0   \n",
       "2                 5                                          0   \n",
       "3                 5                                          0   \n",
       "4                 5                                          0   \n",
       "\n",
       "   complaint_status_Not Applicable  complaint_status_Solved  \\\n",
       "0                                1                        0   \n",
       "1                                0                        1   \n",
       "2                                0                        0   \n",
       "3                                0                        0   \n",
       "4                                0                        1   \n",
       "\n",
       "   complaint_status_Solved in Follow-up  complaint_status_Unsolved  ...  \\\n",
       "0                                     0                          0  ...   \n",
       "1                                     0                          0  ...   \n",
       "2                                     1                          0  ...   \n",
       "3                                     0                          1  ...   \n",
       "4                                     0                          0  ...   \n",
       "\n",
       "   medium_of_operation_Smartphone  membership_category  \\\n",
       "0                               0                    5   \n",
       "1                               0                    6   \n",
       "2                               0                    1   \n",
       "3                               0                    1   \n",
       "4                               1                    1   \n",
       "\n",
       "   offer_application_preference  past_complaint  points_in_wallet  \\\n",
       "0                             1               0        781.750000   \n",
       "1                             0               1        686.882199   \n",
       "2                             1               1        500.690000   \n",
       "3                             1               1        567.660000   \n",
       "4                             1               1        663.060000   \n",
       "\n",
       "   preferred_offer_types_Credit/Debit Card Offers  \\\n",
       "0                                               0   \n",
       "1                                               0   \n",
       "2                                               0   \n",
       "3                                               0   \n",
       "4                                               1   \n",
       "\n",
       "   preferred_offer_types_Gift Vouchers/Coupons  \\\n",
       "0                                            1   \n",
       "1                                            1   \n",
       "2                                            1   \n",
       "3                                            1   \n",
       "4                                            0   \n",
       "\n",
       "   preferred_offer_types_Without Offers  region_category  \\\n",
       "0                                     0                1   \n",
       "1                                     0                3   \n",
       "2                                     0                2   \n",
       "3                                     0                3   \n",
       "4                                     0                3   \n",
       "\n",
       "   used_special_discount  \n",
       "0                      1  \n",
       "1                      1  \n",
       "2                      0  \n",
       "3                      0  \n",
       "4                      0  \n",
       "\n",
       "[5 rows x 30 columns]"
      ]
     },
     "execution_count": 102,
     "metadata": {},
     "output_type": "execute_result"
    }
   ],
   "source": [
    "train.head()"
   ]
  },
  {
   "cell_type": "markdown",
   "metadata": {},
   "source": [
    "### Split"
   ]
  },
  {
   "cell_type": "code",
   "execution_count": 103,
   "metadata": {},
   "outputs": [],
   "source": [
    "# Shuffle\n",
    "df_y = train.pop(target)\n",
    "df_X = train"
   ]
  },
  {
   "cell_type": "code",
   "execution_count": 104,
   "metadata": {},
   "outputs": [
    {
     "data": {
      "text/plain": [
       "(35829, 29)"
      ]
     },
     "execution_count": 104,
     "metadata": {},
     "output_type": "execute_result"
    }
   ],
   "source": [
    "df_X.shape"
   ]
  },
  {
   "cell_type": "code",
   "execution_count": 105,
   "metadata": {},
   "outputs": [],
   "source": [
    "# X_train, X_test, y_train, y_test = train_test_split(df_X, df_y, train_size=0.8, random_state=1)\n",
    "X_train, X_test, y_train, y_test = train_test_split(df_X, df_y, train_size=0.8, random_state=1, stratify=df_y)\n",
    "X_train.reset_index(drop=True, inplace=True)\n",
    "X_test.reset_index(drop=True, inplace=True)"
   ]
  },
  {
   "cell_type": "code",
   "execution_count": 106,
   "metadata": {},
   "outputs": [
    {
     "data": {
      "text/plain": [
       "(28663, 29)"
      ]
     },
     "execution_count": 106,
     "metadata": {},
     "output_type": "execute_result"
    }
   ],
   "source": [
    "X_train.shape"
   ]
  },
  {
   "cell_type": "markdown",
   "metadata": {},
   "source": [
    "### Standardize"
   ]
  },
  {
   "cell_type": "markdown",
   "metadata": {},
   "source": [
    "Let's standardize the data."
   ]
  },
  {
   "cell_type": "code",
   "execution_count": 107,
   "metadata": {},
   "outputs": [],
   "source": [
    "# scaler = RobustScaler()\n",
    "# scaler = MinMaxScaler()\n",
    "scaler = StandardScaler()"
   ]
  },
  {
   "cell_type": "code",
   "execution_count": 108,
   "metadata": {},
   "outputs": [
    {
     "data": {
      "text/plain": [
       "['age',\n",
       " 'days_since_last_login',\n",
       " 'avg_time_spent',\n",
       " 'avg_transaction_value',\n",
       " 'points_in_wallet',\n",
       " 'days_since_joined',\n",
       " 'avg_frequency_login_days']"
      ]
     },
     "execution_count": 108,
     "metadata": {},
     "output_type": "execute_result"
    }
   ],
   "source": [
    "num_ftrs = list(num_ftrs.columns.drop(target))\n",
    "num_ftrs"
   ]
  },
  {
   "cell_type": "code",
   "execution_count": 109,
   "metadata": {},
   "outputs": [
    {
     "data": {
      "text/plain": [
       "Index(['age', 'avg_frequency_login_days', 'avg_time_spent',\n",
       "       'avg_transaction_value', 'complaint_status_No Information Available',\n",
       "       'complaint_status_Not Applicable', 'complaint_status_Solved',\n",
       "       'complaint_status_Solved in Follow-up', 'complaint_status_Unsolved',\n",
       "       'days_since_joined', 'days_since_last_login', 'feedback', 'gender',\n",
       "       'internet_option_Fiber_Optic', 'internet_option_Mobile_Data',\n",
       "       'internet_option_Wi-Fi', 'joined_through_referral',\n",
       "       'medium_of_operation_Both', 'medium_of_operation_Desktop',\n",
       "       'medium_of_operation_Smartphone', 'membership_category',\n",
       "       'offer_application_preference', 'past_complaint', 'points_in_wallet',\n",
       "       'preferred_offer_types_Credit/Debit Card Offers',\n",
       "       'preferred_offer_types_Gift Vouchers/Coupons',\n",
       "       'preferred_offer_types_Without Offers', 'region_category',\n",
       "       'used_special_discount'],\n",
       "      dtype='object')"
      ]
     },
     "execution_count": 109,
     "metadata": {},
     "output_type": "execute_result"
    }
   ],
   "source": [
    "X_train.columns"
   ]
  },
  {
   "cell_type": "code",
   "execution_count": 110,
   "metadata": {},
   "outputs": [],
   "source": [
    "sc_ftrs = num_ftrs + ['region_category', 'membership_category']"
   ]
  },
  {
   "cell_type": "code",
   "execution_count": 111,
   "metadata": {},
   "outputs": [
    {
     "data": {
      "text/html": [
       "<div>\n",
       "<style scoped>\n",
       "    .dataframe tbody tr th:only-of-type {\n",
       "        vertical-align: middle;\n",
       "    }\n",
       "\n",
       "    .dataframe tbody tr th {\n",
       "        vertical-align: top;\n",
       "    }\n",
       "\n",
       "    .dataframe thead th {\n",
       "        text-align: right;\n",
       "    }\n",
       "</style>\n",
       "<table border=\"1\" class=\"dataframe\">\n",
       "  <thead>\n",
       "    <tr style=\"text-align: right;\">\n",
       "      <th></th>\n",
       "      <th>age</th>\n",
       "      <th>avg_frequency_login_days</th>\n",
       "      <th>avg_time_spent</th>\n",
       "      <th>avg_transaction_value</th>\n",
       "      <th>complaint_status_No Information Available</th>\n",
       "      <th>complaint_status_Not Applicable</th>\n",
       "      <th>complaint_status_Solved</th>\n",
       "      <th>complaint_status_Solved in Follow-up</th>\n",
       "      <th>complaint_status_Unsolved</th>\n",
       "      <th>days_since_joined</th>\n",
       "      <th>...</th>\n",
       "      <th>medium_of_operation_Smartphone</th>\n",
       "      <th>membership_category</th>\n",
       "      <th>offer_application_preference</th>\n",
       "      <th>past_complaint</th>\n",
       "      <th>points_in_wallet</th>\n",
       "      <th>preferred_offer_types_Credit/Debit Card Offers</th>\n",
       "      <th>preferred_offer_types_Gift Vouchers/Coupons</th>\n",
       "      <th>preferred_offer_types_Without Offers</th>\n",
       "      <th>region_category</th>\n",
       "      <th>used_special_discount</th>\n",
       "    </tr>\n",
       "  </thead>\n",
       "  <tbody>\n",
       "    <tr>\n",
       "      <th>count</th>\n",
       "      <td>28663.00</td>\n",
       "      <td>28663.00</td>\n",
       "      <td>28663.00</td>\n",
       "      <td>28663.00</td>\n",
       "      <td>28663.00</td>\n",
       "      <td>28663.00</td>\n",
       "      <td>28663.00</td>\n",
       "      <td>28663.00</td>\n",
       "      <td>28663.00</td>\n",
       "      <td>28663.00</td>\n",
       "      <td>...</td>\n",
       "      <td>28663.00</td>\n",
       "      <td>28663.00</td>\n",
       "      <td>28663.00</td>\n",
       "      <td>28663.00</td>\n",
       "      <td>28663.00</td>\n",
       "      <td>28663.00</td>\n",
       "      <td>28663.00</td>\n",
       "      <td>28663.00</td>\n",
       "      <td>28663.00</td>\n",
       "      <td>28663.00</td>\n",
       "    </tr>\n",
       "    <tr>\n",
       "      <th>mean</th>\n",
       "      <td>-0.00</td>\n",
       "      <td>-0.00</td>\n",
       "      <td>-0.00</td>\n",
       "      <td>-0.00</td>\n",
       "      <td>0.00</td>\n",
       "      <td>-0.00</td>\n",
       "      <td>0.00</td>\n",
       "      <td>-0.00</td>\n",
       "      <td>0.00</td>\n",
       "      <td>-0.00</td>\n",
       "      <td>...</td>\n",
       "      <td>-0.00</td>\n",
       "      <td>-0.00</td>\n",
       "      <td>-0.00</td>\n",
       "      <td>0.00</td>\n",
       "      <td>0.00</td>\n",
       "      <td>0.00</td>\n",
       "      <td>0.00</td>\n",
       "      <td>0.00</td>\n",
       "      <td>-0.00</td>\n",
       "      <td>0.00</td>\n",
       "    </tr>\n",
       "    <tr>\n",
       "      <th>std</th>\n",
       "      <td>1.00</td>\n",
       "      <td>1.00</td>\n",
       "      <td>1.00</td>\n",
       "      <td>1.00</td>\n",
       "      <td>1.00</td>\n",
       "      <td>1.00</td>\n",
       "      <td>1.00</td>\n",
       "      <td>1.00</td>\n",
       "      <td>1.00</td>\n",
       "      <td>1.00</td>\n",
       "      <td>...</td>\n",
       "      <td>1.00</td>\n",
       "      <td>1.00</td>\n",
       "      <td>1.00</td>\n",
       "      <td>1.00</td>\n",
       "      <td>1.00</td>\n",
       "      <td>1.00</td>\n",
       "      <td>1.00</td>\n",
       "      <td>1.00</td>\n",
       "      <td>1.00</td>\n",
       "      <td>1.00</td>\n",
       "    </tr>\n",
       "    <tr>\n",
       "      <th>min</th>\n",
       "      <td>-1.70</td>\n",
       "      <td>-6.75</td>\n",
       "      <td>-0.90</td>\n",
       "      <td>-1.46</td>\n",
       "      <td>-0.38</td>\n",
       "      <td>-1.01</td>\n",
       "      <td>-0.38</td>\n",
       "      <td>-0.38</td>\n",
       "      <td>-0.38</td>\n",
       "      <td>-1.71</td>\n",
       "      <td>...</td>\n",
       "      <td>-0.77</td>\n",
       "      <td>-1.30</td>\n",
       "      <td>-1.11</td>\n",
       "      <td>-0.99</td>\n",
       "      <td>-7.82</td>\n",
       "      <td>-0.70</td>\n",
       "      <td>-0.72</td>\n",
       "      <td>-0.70</td>\n",
       "      <td>-1.87</td>\n",
       "      <td>-1.11</td>\n",
       "    </tr>\n",
       "    <tr>\n",
       "      <th>25%</th>\n",
       "      <td>-0.88</td>\n",
       "      <td>-0.64</td>\n",
       "      <td>-0.67</td>\n",
       "      <td>-0.78</td>\n",
       "      <td>-0.38</td>\n",
       "      <td>-1.01</td>\n",
       "      <td>-0.38</td>\n",
       "      <td>-0.38</td>\n",
       "      <td>-0.38</td>\n",
       "      <td>-0.86</td>\n",
       "      <td>...</td>\n",
       "      <td>-0.77</td>\n",
       "      <td>-0.69</td>\n",
       "      <td>-1.11</td>\n",
       "      <td>-0.99</td>\n",
       "      <td>-0.34</td>\n",
       "      <td>-0.70</td>\n",
       "      <td>-0.72</td>\n",
       "      <td>-0.70</td>\n",
       "      <td>-0.33</td>\n",
       "      <td>-1.11</td>\n",
       "    </tr>\n",
       "    <tr>\n",
       "      <th>50%</th>\n",
       "      <td>-0.00</td>\n",
       "      <td>-0.19</td>\n",
       "      <td>-0.32</td>\n",
       "      <td>-0.09</td>\n",
       "      <td>-0.38</td>\n",
       "      <td>0.99</td>\n",
       "      <td>-0.38</td>\n",
       "      <td>-0.38</td>\n",
       "      <td>-0.38</td>\n",
       "      <td>-0.01</td>\n",
       "      <td>...</td>\n",
       "      <td>-0.77</td>\n",
       "      <td>-0.09</td>\n",
       "      <td>0.90</td>\n",
       "      <td>-0.99</td>\n",
       "      <td>-0.00</td>\n",
       "      <td>-0.70</td>\n",
       "      <td>-0.72</td>\n",
       "      <td>-0.70</td>\n",
       "      <td>-0.33</td>\n",
       "      <td>0.90</td>\n",
       "    </tr>\n",
       "    <tr>\n",
       "      <th>75%</th>\n",
       "      <td>0.88</td>\n",
       "      <td>0.72</td>\n",
       "      <td>0.20</td>\n",
       "      <td>0.59</td>\n",
       "      <td>-0.38</td>\n",
       "      <td>0.99</td>\n",
       "      <td>-0.38</td>\n",
       "      <td>-0.38</td>\n",
       "      <td>-0.38</td>\n",
       "      <td>0.87</td>\n",
       "      <td>...</td>\n",
       "      <td>1.30</td>\n",
       "      <td>0.51</td>\n",
       "      <td>0.90</td>\n",
       "      <td>1.01</td>\n",
       "      <td>0.38</td>\n",
       "      <td>1.42</td>\n",
       "      <td>1.39</td>\n",
       "      <td>1.43</td>\n",
       "      <td>1.20</td>\n",
       "      <td>0.90</td>\n",
       "    </tr>\n",
       "    <tr>\n",
       "      <th>max</th>\n",
       "      <td>1.70</td>\n",
       "      <td>6.54</td>\n",
       "      <td>9.05</td>\n",
       "      <td>3.62</td>\n",
       "      <td>2.65</td>\n",
       "      <td>0.99</td>\n",
       "      <td>2.65</td>\n",
       "      <td>2.67</td>\n",
       "      <td>2.64</td>\n",
       "      <td>1.73</td>\n",
       "      <td>...</td>\n",
       "      <td>1.30</td>\n",
       "      <td>1.71</td>\n",
       "      <td>0.90</td>\n",
       "      <td>1.01</td>\n",
       "      <td>7.46</td>\n",
       "      <td>1.42</td>\n",
       "      <td>1.39</td>\n",
       "      <td>1.43</td>\n",
       "      <td>1.20</td>\n",
       "      <td>0.90</td>\n",
       "    </tr>\n",
       "  </tbody>\n",
       "</table>\n",
       "<p>8 rows × 29 columns</p>\n",
       "</div>"
      ],
      "text/plain": [
       "            age  avg_frequency_login_days  avg_time_spent  \\\n",
       "count  28663.00                  28663.00        28663.00   \n",
       "mean      -0.00                     -0.00           -0.00   \n",
       "std        1.00                      1.00            1.00   \n",
       "min       -1.70                     -6.75           -0.90   \n",
       "25%       -0.88                     -0.64           -0.67   \n",
       "50%       -0.00                     -0.19           -0.32   \n",
       "75%        0.88                      0.72            0.20   \n",
       "max        1.70                      6.54            9.05   \n",
       "\n",
       "       avg_transaction_value  complaint_status_No Information Available  \\\n",
       "count               28663.00                                   28663.00   \n",
       "mean                   -0.00                                       0.00   \n",
       "std                     1.00                                       1.00   \n",
       "min                    -1.46                                      -0.38   \n",
       "25%                    -0.78                                      -0.38   \n",
       "50%                    -0.09                                      -0.38   \n",
       "75%                     0.59                                      -0.38   \n",
       "max                     3.62                                       2.65   \n",
       "\n",
       "       complaint_status_Not Applicable  complaint_status_Solved  \\\n",
       "count                         28663.00                 28663.00   \n",
       "mean                             -0.00                     0.00   \n",
       "std                               1.00                     1.00   \n",
       "min                              -1.01                    -0.38   \n",
       "25%                              -1.01                    -0.38   \n",
       "50%                               0.99                    -0.38   \n",
       "75%                               0.99                    -0.38   \n",
       "max                               0.99                     2.65   \n",
       "\n",
       "       complaint_status_Solved in Follow-up  complaint_status_Unsolved  \\\n",
       "count                              28663.00                   28663.00   \n",
       "mean                                  -0.00                       0.00   \n",
       "std                                    1.00                       1.00   \n",
       "min                                   -0.38                      -0.38   \n",
       "25%                                   -0.38                      -0.38   \n",
       "50%                                   -0.38                      -0.38   \n",
       "75%                                   -0.38                      -0.38   \n",
       "max                                    2.67                       2.64   \n",
       "\n",
       "       days_since_joined  ...  medium_of_operation_Smartphone  \\\n",
       "count           28663.00  ...                        28663.00   \n",
       "mean               -0.00  ...                           -0.00   \n",
       "std                 1.00  ...                            1.00   \n",
       "min                -1.71  ...                           -0.77   \n",
       "25%                -0.86  ...                           -0.77   \n",
       "50%                -0.01  ...                           -0.77   \n",
       "75%                 0.87  ...                            1.30   \n",
       "max                 1.73  ...                            1.30   \n",
       "\n",
       "       membership_category  offer_application_preference  past_complaint  \\\n",
       "count             28663.00                      28663.00        28663.00   \n",
       "mean                 -0.00                         -0.00            0.00   \n",
       "std                   1.00                          1.00            1.00   \n",
       "min                  -1.30                         -1.11           -0.99   \n",
       "25%                  -0.69                         -1.11           -0.99   \n",
       "50%                  -0.09                          0.90           -0.99   \n",
       "75%                   0.51                          0.90            1.01   \n",
       "max                   1.71                          0.90            1.01   \n",
       "\n",
       "       points_in_wallet  preferred_offer_types_Credit/Debit Card Offers  \\\n",
       "count          28663.00                                        28663.00   \n",
       "mean               0.00                                            0.00   \n",
       "std                1.00                                            1.00   \n",
       "min               -7.82                                           -0.70   \n",
       "25%               -0.34                                           -0.70   \n",
       "50%               -0.00                                           -0.70   \n",
       "75%                0.38                                            1.42   \n",
       "max                7.46                                            1.42   \n",
       "\n",
       "       preferred_offer_types_Gift Vouchers/Coupons  \\\n",
       "count                                     28663.00   \n",
       "mean                                          0.00   \n",
       "std                                           1.00   \n",
       "min                                          -0.72   \n",
       "25%                                          -0.72   \n",
       "50%                                          -0.72   \n",
       "75%                                           1.39   \n",
       "max                                           1.39   \n",
       "\n",
       "       preferred_offer_types_Without Offers  region_category  \\\n",
       "count                              28663.00         28663.00   \n",
       "mean                                   0.00            -0.00   \n",
       "std                                    1.00             1.00   \n",
       "min                                   -0.70            -1.87   \n",
       "25%                                   -0.70            -0.33   \n",
       "50%                                   -0.70            -0.33   \n",
       "75%                                    1.43             1.20   \n",
       "max                                    1.43             1.20   \n",
       "\n",
       "       used_special_discount  \n",
       "count               28663.00  \n",
       "mean                    0.00  \n",
       "std                     1.00  \n",
       "min                    -1.11  \n",
       "25%                    -1.11  \n",
       "50%                     0.90  \n",
       "75%                     0.90  \n",
       "max                     0.90  \n",
       "\n",
       "[8 rows x 29 columns]"
      ]
     },
     "execution_count": 111,
     "metadata": {},
     "output_type": "execute_result"
    }
   ],
   "source": [
    "# apply scaling to all numerical variables except dummy variables as they are already between 0 and 1\n",
    "X_train = pd.DataFrame(scaler.fit_transform(X_train), columns=X_train.columns)\n",
    "\n",
    "# scale test data with transform()\n",
    "X_test = pd.DataFrame(scaler.transform(X_test), columns=X_test.columns)\n",
    "\n",
    "# view sample data\n",
    "X_train.describe().round(2)"
   ]
  },
  {
   "cell_type": "markdown",
   "metadata": {},
   "source": [
    "# 4. Modeling"
   ]
  },
  {
   "cell_type": "code",
   "execution_count": 112,
   "metadata": {},
   "outputs": [
    {
     "name": "stdout",
     "output_type": "stream",
     "text": [
      "0.9504587796113456\n",
      "0.7891431761094055\n"
     ]
    }
   ],
   "source": [
    "rf_model = RandomForestClassifier(verbose=0, random_state=1, n_jobs=-1, \n",
    "                                  n_estimators=100,max_depth=15, min_samples_split = 5, min_samples_leaf = 1\n",
    "                                 )\n",
    "rf_model.fit(X_train, y_train)\n",
    "\n",
    "# predict\n",
    "y_train_pred = rf_model.predict(X_train)\n",
    "y_test_pred = rf_model.predict(X_test)\n",
    "print(accuracy_score(y_train, y_train_pred))\n",
    "print(accuracy_score(y_test, y_test_pred))\n",
    "estimator = rf_model"
   ]
  },
  {
   "cell_type": "code",
   "execution_count": 106,
   "metadata": {},
   "outputs": [
    {
     "data": {
      "text/plain": [
       "<matplotlib.legend.Legend at 0x1eed66ca1f0>"
      ]
     },
     "execution_count": 106,
     "metadata": {},
     "output_type": "execute_result"
    },
    {
     "data": {
      "image/png": "[encoded data removed]",
      "text/plain": [
       "<Figure size 432x288 with 1 Axes>"
      ]
     },
     "metadata": {
      "needs_background": "light"
     },
     "output_type": "display_data"
    }
   ],
   "source": [
    "# Set-up\n",
    "score = 'f1_macro'\n",
    "train_sizes = [2, 10, 50, 250, 1250, 6250, 22930]\n",
    "train_sizes, train_scores, validation_scores = learning_curve(estimator=estimator, X=X_train, y=y_train,\n",
    "                                                              train_sizes=train_sizes, cv=5,\n",
    "                                                              scoring=score)\n",
    "train_scores_mean = -train_scores.mean(axis=1)\n",
    "validation_scores_mean = -validation_scores.mean(axis=1)\n",
    "df_lc = pd.DataFrame()\n",
    "df_lc['train_scores'] = pd.Series(train_scores_mean)\n",
    "df_lc['validation_scores'] = pd.Series(validation_scores_mean)\n",
    "df_lc.set_index(train_sizes, inplace=True)\n",
    "\n",
    "# Plot\n",
    "fig = plt.figure('Learning Curves')\n",
    "ax0 = fig.add_subplot(1, 1, 1)\n",
    "df_lc.plot(kind='line', ax=ax0)\n",
    "plt.xlabel('Training set size')\n",
    "plt.ylabel(score)\n",
    "plt.title('Learning Curves')\n",
    "plt.legend()"
   ]
  },
  {
   "cell_type": "code",
   "execution_count": null,
   "metadata": {},
   "outputs": [],
   "source": []
  },
  {
   "cell_type": "code",
   "execution_count": null,
   "metadata": {},
   "outputs": [],
   "source": []
  },
  {
   "cell_type": "code",
   "execution_count": null,
   "metadata": {},
   "outputs": [],
   "source": []
  },
  {
   "cell_type": "code",
   "execution_count": 28,
   "metadata": {},
   "outputs": [],
   "source": [
    "train_X = train.drop('churn_risk_score', axis=1)\n",
    "train_y = train['churn_risk_score']"
   ]
  },
  {
   "cell_type": "code",
   "execution_count": 29,
   "metadata": {},
   "outputs": [],
   "source": [
    "dic_scores = {}\n",
    "score = 'f1_macro'  # https://www.kaggle.com/enforcer007/what-is-micro-averaged-f1-score"
   ]
  },
  {
   "cell_type": "code",
   "execution_count": 44,
   "metadata": {},
   "outputs": [
    {
     "name": "stdout",
     "output_type": "stream",
     "text": [
      "{'SVM__kernel': 'rbf'}\n"
     ]
    },
    {
     "data": {
      "text/plain": [
       "0.14966870332953439"
      ]
     },
     "execution_count": 44,
     "metadata": {},
     "output_type": "execute_result"
    }
   ],
   "source": [
    "steps = [('SVM', SVC())]  # ('smote', SMOTE()), \n",
    "params = {'SVM__kernel': ['rbf']}\n",
    "pipeline = imbPipeline(steps)\n",
    "X_train, X_test, y_train, y_test = train_test_split(train_X, train_y, test_size=0.2, random_state=1, stratify=train_y)\n",
    "svm_gs = GridSearchCV(pipeline, param_grid=params, cv=5, n_jobs=-1, scoring='f1_macro')\n",
    "svm_gs.fit(X_train, y_train)\n",
    "print(svm_gs.best_params_)\n",
    "y_pred = svm_gs.predict(X_test)\n",
    "dic_scores['SVM'] = f1_score(y_test, y_pred, average='macro')\n",
    "dic_scores['SVM']"
   ]
  },
  {
   "cell_type": "code",
   "execution_count": 47,
   "metadata": {},
   "outputs": [
    {
     "name": "stdout",
     "output_type": "stream",
     "text": [
      "KFold(n_splits=4, random_state=None, shuffle=False)\n"
     ]
    }
   ],
   "source": [
    "from sklearn.model_selection import KFold\n",
    "folds = 5\n",
    "cv = KFold(n_splits=(folds - 1))\n",
    "print(cv)"
   ]
  },
  {
   "cell_type": "markdown",
   "metadata": {},
   "source": [
    "# 4. Modeling"
   ]
  },
  {
   "cell_type": "markdown",
   "metadata": {},
   "source": [
    "Now the actual modeling will start. The following algorithms will be applied:\n",
    "- Kernel SVM\n",
    "- Random Forest\n",
    "- Neural Network\n",
    "- Gradient Boosting Tree\n",
    "- Extreme Gradient Boosting\n",
    "\n",
    "For each algorithm the performance (f1_macro-score) will be determined using K-fold (5) cross validation. \n",
    "\n",
    "Furthermore, the model will be improved using:\n",
    "- Confusion Matrix\n",
    "- Learning Curves\n",
    "- Feature Selection"
   ]
  },
  {
   "cell_type": "code",
   "execution_count": 80,
   "metadata": {},
   "outputs": [],
   "source": [
    "dic_scores = {}\n",
    "dic_estimators = {}\n",
    "score = 'f1_macro'  # https://www.kaggle.com/enforcer007/what-is-micro-averaged-f1-score"
   ]
  },
  {
   "cell_type": "markdown",
   "metadata": {},
   "source": [
    "Kernel SVM"
   ]
  },
  {
   "cell_type": "code",
   "execution_count": 29,
   "metadata": {},
   "outputs": [
    {
     "name": "stdout",
     "output_type": "stream",
     "text": [
      "{'kernel': 'rbf'}\n"
     ]
    }
   ],
   "source": [
    "# https://towardsdatascience.com/svm-and-kernel-svm-fed02bef1200\n",
    "svm_par_grid = {\n",
    "    \"kernel\": ['rbf'],  # https://data-flair.training/blogs/svm-kernel-functions/\n",
    "}\n",
    "svm = SVC(random_state=1)\n",
    "svm_gs = GridSearchCV(estimator=svm, param_grid=svm_par_grid, n_jobs=-1)\n",
    "svm_gs.fit(train_idv, train_dv)\n",
    "print(svm_gs.best_params_)\n",
    "svm = SVC(**svm_gs.best_params_, random_state=1)\n",
    "dic_scores['Kernel SVM'] = cross_val_score(svm, train_idv, train_dv, cv=5, scoring=score).mean()\n",
    "dic_estimators['Kernel SVM'] = svm"
   ]
  },
  {
   "cell_type": "code",
   "execution_count": 30,
   "metadata": {},
   "outputs": [
    {
     "data": {
      "text/plain": [
       "0.13987354646060052"
      ]
     },
     "execution_count": 30,
     "metadata": {},
     "output_type": "execute_result"
    }
   ],
   "source": [
    "dic_scores['Kernel SVM']"
   ]
  },
  {
   "cell_type": "markdown",
   "metadata": {},
   "source": [
    "Random Forest"
   ]
  },
  {
   "cell_type": "code",
   "execution_count": 156,
   "metadata": {},
   "outputs": [
    {
     "name": "stdout",
     "output_type": "stream",
     "text": [
      "{'max_depth': 50, 'min_samples_leaf': 2, 'min_samples_split': 5, 'n_estimators': 100}\n"
     ]
    }
   ],
   "source": [
    "rf_par_grid = {\n",
    "    \"max_depth\": [50, 100],\n",
    "    \"min_samples_split\": [2, 5],\n",
    "    \"min_samples_leaf\": [2, 5],\n",
    "    \"n_estimators\": [50, 100],\n",
    "}\n",
    "rf = RandomForestClassifier(random_state=1)\n",
    "rf_gs = GridSearchCV(estimator=rf, param_grid=rf_par_grid, n_jobs=-1)\n",
    "rf_gs.fit(train_idv, train_dv)\n",
    "print(rf_gs.best_params_)\n",
    "rf = RandomForestClassifier(**rf_gs.best_params_, random_state=1)\n",
    "dic_scores['Random Forest'] = cross_val_score(rf, train_idv, train_dv, cv=5, scoring=score).mean()\n",
    "dic_estimators['Random Forest'] = rf"
   ]
  },
  {
   "cell_type": "code",
   "execution_count": 157,
   "metadata": {},
   "outputs": [
    {
     "data": {
      "text/plain": [
       "0.41821873069902793"
      ]
     },
     "execution_count": 157,
     "metadata": {},
     "output_type": "execute_result"
    }
   ],
   "source": [
    "dic_scores['Random Forest']"
   ]
  },
  {
   "cell_type": "markdown",
   "metadata": {},
   "source": [
    "Gradient Boosting Tree"
   ]
  },
  {
   "cell_type": "code",
   "execution_count": 33,
   "metadata": {},
   "outputs": [
    {
     "name": "stdout",
     "output_type": "stream",
     "text": [
      "{'learning_rate': 0.01, 'max_depth': 50, 'min_samples_leaf': 5, 'min_samples_split': 2, 'n_estimators': 100}\n"
     ]
    }
   ],
   "source": [
    "gbt_par_grid = {\n",
    "    \"max_depth\": [50, 100],\n",
    "    \"min_samples_split\": [2, 5],\n",
    "    \"min_samples_leaf\":  [2, 5],\n",
    "    \"n_estimators\": [50, 100],\n",
    "    \"learning_rate\": [0.01, 1],\n",
    "    }\n",
    "gbt = GradientBoostingClassifier(random_state=1)\n",
    "gbt_gs = GridSearchCV(estimator=gbt, param_grid=gbt_par_grid, n_jobs=-1)\n",
    "gbt_gs.fit(train_idv, train_dv)\n",
    "print(gbt_gs.best_params_)\n",
    "gbt = GradientBoostingClassifier(**gbt_gs.best_params_, random_state=1)\n",
    "dic_scores['Gradient Boosting Tree'] = cross_val_score(gbt, train_idv, train_dv, cv=5, scoring=score).mean()\n",
    "dic_estimators['Gradient Boosting Tree'] = gbt"
   ]
  },
  {
   "cell_type": "code",
   "execution_count": 34,
   "metadata": {},
   "outputs": [
    {
     "data": {
      "text/plain": [
       "0.18558945928825374"
      ]
     },
     "execution_count": 34,
     "metadata": {},
     "output_type": "execute_result"
    }
   ],
   "source": [
    "dic_scores['Gradient Boosting Tree']"
   ]
  },
  {
   "cell_type": "markdown",
   "metadata": {},
   "source": [
    "Extreme Gradient Boosting"
   ]
  },
  {
   "cell_type": "code",
   "execution_count": 35,
   "metadata": {},
   "outputs": [
    {
     "name": "stderr",
     "output_type": "stream",
     "text": [
      "C:\\Users\\MBRU\\Anaconda3\\lib\\site-packages\\joblib\\externals\\loky\\process_executor.py:688: UserWarning: A worker stopped while some jobs were given to the executor. This can be caused by a too short worker timeout or by a memory leak.\n",
      "  warnings.warn(\n",
      "C:\\Users\\MBRU\\Anaconda3\\lib\\site-packages\\xgboost\\sklearn.py:892: UserWarning: The use of label encoder in XGBClassifier is deprecated and will be removed in a future release. To remove this warning, do the following: 1) Pass option use_label_encoder=False when constructing XGBClassifier object; and 2) Encode your labels (y) as integers starting with 0, i.e. 0, 1, 2, ..., [num_class - 1].\n",
      "  warnings.warn(label_encoder_deprecation_msg, UserWarning)\n"
     ]
    },
    {
     "name": "stdout",
     "output_type": "stream",
     "text": [
      "[18:59:24] WARNING: C:/Users/Administrator/workspace/xgboost-win64_release_1.3.0/src/learner.cc:1061: Starting in XGBoost 1.3.0, the default evaluation metric used with the objective 'multi:softprob' was changed from 'merror' to 'mlogloss'. Explicitly set eval_metric if you'd like to restore the old behavior.\n",
      "{'learning_rate': 0.01, 'max_depth': 50, 'n_estimators': 100, 'reg_alpha': 1, 'reg_lambda': 1}\n"
     ]
    },
    {
     "name": "stderr",
     "output_type": "stream",
     "text": [
      "C:\\Users\\MBRU\\Anaconda3\\lib\\site-packages\\xgboost\\sklearn.py:892: UserWarning: The use of label encoder in XGBClassifier is deprecated and will be removed in a future release. To remove this warning, do the following: 1) Pass option use_label_encoder=False when constructing XGBClassifier object; and 2) Encode your labels (y) as integers starting with 0, i.e. 0, 1, 2, ..., [num_class - 1].\n",
      "  warnings.warn(label_encoder_deprecation_msg, UserWarning)\n"
     ]
    },
    {
     "name": "stdout",
     "output_type": "stream",
     "text": [
      "[19:01:43] WARNING: C:/Users/Administrator/workspace/xgboost-win64_release_1.3.0/src/learner.cc:1061: Starting in XGBoost 1.3.0, the default evaluation metric used with the objective 'multi:softprob' was changed from 'merror' to 'mlogloss'. Explicitly set eval_metric if you'd like to restore the old behavior.\n",
      "[19:03:30] WARNING: C:/Users/Administrator/workspace/xgboost-win64_release_1.3.0/src/learner.cc:1061: Starting in XGBoost 1.3.0, the default evaluation metric used with the objective 'multi:softprob' was changed from 'merror' to 'mlogloss'. Explicitly set eval_metric if you'd like to restore the old behavior.\n",
      "[19:05:19] WARNING: C:/Users/Administrator/workspace/xgboost-win64_release_1.3.0/src/learner.cc:1061: Starting in XGBoost 1.3.0, the default evaluation metric used with the objective 'multi:softprob' was changed from 'merror' to 'mlogloss'. Explicitly set eval_metric if you'd like to restore the old behavior.\n",
      "[19:07:03] WARNING: C:/Users/Administrator/workspace/xgboost-win64_release_1.3.0/src/learner.cc:1061: Starting in XGBoost 1.3.0, the default evaluation metric used with the objective 'multi:softprob' was changed from 'merror' to 'mlogloss'. Explicitly set eval_metric if you'd like to restore the old behavior.\n",
      "[19:08:50] WARNING: C:/Users/Administrator/workspace/xgboost-win64_release_1.3.0/src/learner.cc:1061: Starting in XGBoost 1.3.0, the default evaluation metric used with the objective 'multi:softprob' was changed from 'merror' to 'mlogloss'. Explicitly set eval_metric if you'd like to restore the old behavior.\n"
     ]
    }
   ],
   "source": [
    "xgbr_par_grid = {\n",
    "    \"max_depth\": [50, 100],\n",
    "    \"n_estimators\": [50, 100],\n",
    "    \"learning_rate\": [0.01, 1],\n",
    "    \"reg_alpha\": [0.01, 1],\n",
    "    \"reg_lambda\": [0.01, 1],\n",
    "}\n",
    "xgbr = XGBClassifier(objective='multi:softmax', random_state=1)\n",
    "xgbr_gs = GridSearchCV(estimator=xgbr, param_grid=xgbr_par_grid, n_jobs=-1)\n",
    "xgbr_gs.fit(train_idv, train_dv)\n",
    "print(xgbr_gs.best_params_)\n",
    "xgbr = XGBClassifier(**xgbr_gs.best_params_, objective='binary:hinge', random_state=1)\n",
    "dic_scores['Extreme Gradient Boosting'] = cross_val_score(xgbr, train_idv, train_dv, cv=5, scoring=score).mean()\n",
    "dic_estimators['Extreme Gradient Boosting'] = xgbr"
   ]
  },
  {
   "cell_type": "code",
   "execution_count": 36,
   "metadata": {},
   "outputs": [
    {
     "data": {
      "text/plain": [
       "0.1864201865897968"
      ]
     },
     "execution_count": 36,
     "metadata": {},
     "output_type": "execute_result"
    }
   ],
   "source": [
    "dic_scores['Extreme Gradient Boosting']"
   ]
  },
  {
   "cell_type": "markdown",
   "metadata": {},
   "source": [
    "Select best model/estimator"
   ]
  },
  {
   "cell_type": "code",
   "execution_count": 158,
   "metadata": {},
   "outputs": [
    {
     "name": "stdout",
     "output_type": "stream",
     "text": [
      "                      0\n",
      "Random Forest  0.418219\n"
     ]
    }
   ],
   "source": [
    "df_scores = pd.DataFrame.from_dict(dic_scores, orient='index').sort_values(by=0, axis=0, ascending=False)\n",
    "estimator = dic_estimators[df_scores.index[0]]\n",
    "print(df_scores)"
   ]
  },
  {
   "cell_type": "markdown",
   "metadata": {},
   "source": [
    "### Confusion Matrix"
   ]
  },
  {
   "cell_type": "markdown",
   "metadata": {},
   "source": [
    "Now we will make a confusion matrix using the best performing estimator."
   ]
  },
  {
   "cell_type": "code",
   "execution_count": 159,
   "metadata": {},
   "outputs": [
    {
     "data": {
      "text/html": [
       "<div>\n",
       "<style scoped>\n",
       "    .dataframe tbody tr th:only-of-type {\n",
       "        vertical-align: middle;\n",
       "    }\n",
       "\n",
       "    .dataframe tbody tr th {\n",
       "        vertical-align: top;\n",
       "    }\n",
       "\n",
       "    .dataframe thead th {\n",
       "        text-align: right;\n",
       "    }\n",
       "</style>\n",
       "<table border=\"1\" class=\"dataframe\">\n",
       "  <thead>\n",
       "    <tr style=\"text-align: right;\">\n",
       "      <th></th>\n",
       "      <th>1.0</th>\n",
       "      <th>2.0</th>\n",
       "      <th>3.0</th>\n",
       "      <th>4.0</th>\n",
       "      <th>5.0</th>\n",
       "    </tr>\n",
       "  </thead>\n",
       "  <tbody>\n",
       "    <tr>\n",
       "      <th>1.0</th>\n",
       "      <td>0.591133</td>\n",
       "      <td>0.156650</td>\n",
       "      <td>0.088670</td>\n",
       "      <td>0.086207</td>\n",
       "      <td>0.077340</td>\n",
       "    </tr>\n",
       "    <tr>\n",
       "      <th>2.0</th>\n",
       "      <td>0.153736</td>\n",
       "      <td>0.582580</td>\n",
       "      <td>0.090433</td>\n",
       "      <td>0.095669</td>\n",
       "      <td>0.077582</td>\n",
       "    </tr>\n",
       "    <tr>\n",
       "      <th>3.0</th>\n",
       "      <td>0.000000</td>\n",
       "      <td>0.000000</td>\n",
       "      <td>0.368932</td>\n",
       "      <td>0.362460</td>\n",
       "      <td>0.268608</td>\n",
       "    </tr>\n",
       "    <tr>\n",
       "      <th>4.0</th>\n",
       "      <td>0.011555</td>\n",
       "      <td>0.011555</td>\n",
       "      <td>0.358690</td>\n",
       "      <td>0.352431</td>\n",
       "      <td>0.265768</td>\n",
       "    </tr>\n",
       "    <tr>\n",
       "      <th>5.0</th>\n",
       "      <td>0.025329</td>\n",
       "      <td>0.028738</td>\n",
       "      <td>0.357526</td>\n",
       "      <td>0.316123</td>\n",
       "      <td>0.272284</td>\n",
       "    </tr>\n",
       "  </tbody>\n",
       "</table>\n",
       "</div>"
      ],
      "text/plain": [
       "          1.0       2.0       3.0       4.0       5.0\n",
       "1.0  0.591133  0.156650  0.088670  0.086207  0.077340\n",
       "2.0  0.153736  0.582580  0.090433  0.095669  0.077582\n",
       "3.0  0.000000  0.000000  0.368932  0.362460  0.268608\n",
       "4.0  0.011555  0.011555  0.358690  0.352431  0.265768\n",
       "5.0  0.025329  0.028738  0.357526  0.316123  0.272284"
      ]
     },
     "execution_count": 159,
     "metadata": {},
     "output_type": "execute_result"
    }
   ],
   "source": [
    "cm_train_idv, cm_test_idv, cm_train_dv, cm_test_dv = train_test_split(train_idv, train_dv, test_size=0.2, random_state=1)\n",
    "estimator = dic_estimators[df_scores.index[0]]\n",
    "estimator.fit(cm_train_idv, cm_train_dv)\n",
    "pred = estimator.predict(cm_test_idv)\n",
    "labels = [1., 2., 3., 4., 5.]\n",
    "cm = pd.DataFrame(confusion_matrix(cm_test_dv, pred, normalize='true', labels=labels))  \n",
    "cm.columns = labels\n",
    "cm.index = labels\n",
    "cm"
   ]
  },
  {
   "cell_type": "markdown",
   "metadata": {},
   "source": [
    "### Learning Curves"
   ]
  },
  {
   "cell_type": "markdown",
   "metadata": {},
   "source": [
    "Plot learning curves (Bias or Variance?)"
   ]
  },
  {
   "cell_type": "code",
   "execution_count": 160,
   "metadata": {},
   "outputs": [
    {
     "data": {
      "text/plain": [
       "<matplotlib.legend.Legend at 0x222eb05e610>"
      ]
     },
     "execution_count": 160,
     "metadata": {},
     "output_type": "execute_result"
    },
    {
     "data": {
      "image/png": "[encoded data removed]",
      "text/plain": [
       "<Figure size 432x288 with 1 Axes>"
      ]
     },
     "metadata": {
      "needs_background": "light"
     },
     "output_type": "display_data"
    }
   ],
   "source": [
    "# Set-up\n",
    "train_sizes = [2, 10, 50, 250, 1250, 6250, 28663]\n",
    "train_sizes, train_scores, validation_scores = learning_curve(estimator=estimator, X=train_idv, y=train_dv,\n",
    "                                                              train_sizes=train_sizes, cv=5,\n",
    "                                                              scoring=score)\n",
    "train_scores_mean = -train_scores.mean(axis=1)\n",
    "validation_scores_mean = -validation_scores.mean(axis=1)\n",
    "df_lc = pd.DataFrame()\n",
    "df_lc['train_scores'] = pd.Series(train_scores_mean)\n",
    "df_lc['validation_scores'] = pd.Series(validation_scores_mean)\n",
    "df_lc.set_index(train_sizes, inplace=True)\n",
    "\n",
    "# Plot\n",
    "fig = plt.figure('Learning Curves')\n",
    "ax0 = fig.add_subplot(1, 1, 1)\n",
    "df_lc.plot(kind='line', ax=ax0)\n",
    "plt.xlabel('Training set size')\n",
    "plt.ylabel(score)\n",
    "plt.title('Learning Curves')\n",
    "plt.legend()"
   ]
  },
  {
   "cell_type": "markdown",
   "metadata": {},
   "source": [
    "### Feature Selection"
   ]
  },
  {
   "cell_type": "code",
   "execution_count": null,
   "metadata": {},
   "outputs": [],
   "source": [
    "# Feature selection\n",
    "rfecv = RFECV(estimator=estimator, step=1, cv=5, scoring=score)\n",
    "rfecv.fit(train_idv, train_dv)\n",
    "print(\"Optimal number of features : %d\" % rfecv.n_features_)"
   ]
  },
  {
   "cell_type": "code",
   "execution_count": null,
   "metadata": {},
   "outputs": [],
   "source": [
    "# Plot number of features vs CV scores\n",
    "plt.figure('Recursive Feature Elimination')\n",
    "plt.xlabel('Number of features')\n",
    "plt.ylabel('Cross-validation score')\n",
    "plt.plot(range(1, len(rfecv.grid_scores_) + 1), rfecv.grid_scores_)\n",
    "plt.show()"
   ]
  },
  {
   "cell_type": "code",
   "execution_count": 119,
   "metadata": {},
   "outputs": [],
   "source": [
    "# Mask best features\n",
    "train_idv = train_idv.loc[:, rfecv.ranking_ == 1]"
   ]
  },
  {
   "cell_type": "code",
   "execution_count": 121,
   "metadata": {},
   "outputs": [
    {
     "data": {
      "text/plain": [
       "SelectKBest(k=8, score_func=<function chi2 at 0x00000222CA35CA60>)"
      ]
     },
     "execution_count": 121,
     "metadata": {},
     "output_type": "execute_result"
    }
   ],
   "source": [
    "# Create and fit selector\n",
    "selector = SelectKBest(chi2, k=8)\n",
    "selector.fit(train_idv, train_dv)"
   ]
  },
  {
   "cell_type": "code",
   "execution_count": 122,
   "metadata": {},
   "outputs": [
    {
     "data": {
      "text/html": [
       "<div>\n",
       "<style scoped>\n",
       "    .dataframe tbody tr th:only-of-type {\n",
       "        vertical-align: middle;\n",
       "    }\n",
       "\n",
       "    .dataframe tbody tr th {\n",
       "        vertical-align: top;\n",
       "    }\n",
       "\n",
       "    .dataframe thead th {\n",
       "        text-align: right;\n",
       "    }\n",
       "</style>\n",
       "<table border=\"1\" class=\"dataframe\">\n",
       "  <thead>\n",
       "    <tr style=\"text-align: right;\">\n",
       "      <th></th>\n",
       "      <th>avg_time_spent</th>\n",
       "      <th>avg_transaction_value</th>\n",
       "      <th>gender</th>\n",
       "      <th>joined_through_referral</th>\n",
       "      <th>joining_date</th>\n",
       "      <th>last_visit_time</th>\n",
       "      <th>points_in_wallet</th>\n",
       "      <th>region_category</th>\n",
       "    </tr>\n",
       "  </thead>\n",
       "  <tbody>\n",
       "    <tr>\n",
       "      <th>0</th>\n",
       "      <td>300.630000</td>\n",
       "      <td>53005.250000</td>\n",
       "      <td>0</td>\n",
       "      <td>0</td>\n",
       "      <td>136.000000</td>\n",
       "      <td>58082.000000</td>\n",
       "      <td>781.750000</td>\n",
       "      <td>1</td>\n",
       "    </tr>\n",
       "    <tr>\n",
       "      <th>1</th>\n",
       "      <td>306.340000</td>\n",
       "      <td>12838.380000</td>\n",
       "      <td>0</td>\n",
       "      <td>0</td>\n",
       "      <td>125.000000</td>\n",
       "      <td>45493.000000</td>\n",
       "      <td>813.038929</td>\n",
       "      <td>3</td>\n",
       "    </tr>\n",
       "    <tr>\n",
       "      <th>2</th>\n",
       "      <td>516.160000</td>\n",
       "      <td>21027.000000</td>\n",
       "      <td>0</td>\n",
       "      <td>1</td>\n",
       "      <td>415.000000</td>\n",
       "      <td>82401.000000</td>\n",
       "      <td>500.690000</td>\n",
       "      <td>2</td>\n",
       "    </tr>\n",
       "    <tr>\n",
       "      <th>3</th>\n",
       "      <td>53.270000</td>\n",
       "      <td>25239.560000</td>\n",
       "      <td>1</td>\n",
       "      <td>1</td>\n",
       "      <td>428.000000</td>\n",
       "      <td>57470.000000</td>\n",
       "      <td>567.660000</td>\n",
       "      <td>3</td>\n",
       "    </tr>\n",
       "    <tr>\n",
       "      <th>4</th>\n",
       "      <td>113.130000</td>\n",
       "      <td>24483.660000</td>\n",
       "      <td>0</td>\n",
       "      <td>0</td>\n",
       "      <td>110.000000</td>\n",
       "      <td>56804.000000</td>\n",
       "      <td>663.060000</td>\n",
       "      <td>3</td>\n",
       "    </tr>\n",
       "    <tr>\n",
       "      <th>...</th>\n",
       "      <td>...</td>\n",
       "      <td>...</td>\n",
       "      <td>...</td>\n",
       "      <td>...</td>\n",
       "      <td>...</td>\n",
       "      <td>...</td>\n",
       "      <td>...</td>\n",
       "      <td>...</td>\n",
       "    </tr>\n",
       "    <tr>\n",
       "      <th>52115</th>\n",
       "      <td>38.750092</td>\n",
       "      <td>42422.168260</td>\n",
       "      <td>0</td>\n",
       "      <td>0</td>\n",
       "      <td>213.380598</td>\n",
       "      <td>84821.246978</td>\n",
       "      <td>1347.831333</td>\n",
       "      <td>2</td>\n",
       "    </tr>\n",
       "    <tr>\n",
       "      <th>52116</th>\n",
       "      <td>342.512823</td>\n",
       "      <td>6922.239314</td>\n",
       "      <td>1</td>\n",
       "      <td>0</td>\n",
       "      <td>55.198826</td>\n",
       "      <td>19941.464440</td>\n",
       "      <td>787.081225</td>\n",
       "      <td>1</td>\n",
       "    </tr>\n",
       "    <tr>\n",
       "      <th>52117</th>\n",
       "      <td>35.714227</td>\n",
       "      <td>10908.877634</td>\n",
       "      <td>0</td>\n",
       "      <td>0</td>\n",
       "      <td>499.377889</td>\n",
       "      <td>29061.184343</td>\n",
       "      <td>1027.664309</td>\n",
       "      <td>2</td>\n",
       "    </tr>\n",
       "    <tr>\n",
       "      <th>52118</th>\n",
       "      <td>163.338825</td>\n",
       "      <td>34163.756725</td>\n",
       "      <td>0</td>\n",
       "      <td>0</td>\n",
       "      <td>385.575002</td>\n",
       "      <td>5767.986961</td>\n",
       "      <td>570.349145</td>\n",
       "      <td>2</td>\n",
       "    </tr>\n",
       "    <tr>\n",
       "      <th>52119</th>\n",
       "      <td>151.123560</td>\n",
       "      <td>24456.426765</td>\n",
       "      <td>0</td>\n",
       "      <td>0</td>\n",
       "      <td>531.711701</td>\n",
       "      <td>8285.436835</td>\n",
       "      <td>275.774513</td>\n",
       "      <td>2</td>\n",
       "    </tr>\n",
       "  </tbody>\n",
       "</table>\n",
       "<p>52120 rows × 8 columns</p>\n",
       "</div>"
      ],
      "text/plain": [
       "       avg_time_spent  avg_transaction_value  gender  joined_through_referral  \\\n",
       "0          300.630000           53005.250000       0                        0   \n",
       "1          306.340000           12838.380000       0                        0   \n",
       "2          516.160000           21027.000000       0                        1   \n",
       "3           53.270000           25239.560000       1                        1   \n",
       "4          113.130000           24483.660000       0                        0   \n",
       "...               ...                    ...     ...                      ...   \n",
       "52115       38.750092           42422.168260       0                        0   \n",
       "52116      342.512823            6922.239314       1                        0   \n",
       "52117       35.714227           10908.877634       0                        0   \n",
       "52118      163.338825           34163.756725       0                        0   \n",
       "52119      151.123560           24456.426765       0                        0   \n",
       "\n",
       "       joining_date  last_visit_time  points_in_wallet  region_category  \n",
       "0        136.000000     58082.000000        781.750000                1  \n",
       "1        125.000000     45493.000000        813.038929                3  \n",
       "2        415.000000     82401.000000        500.690000                2  \n",
       "3        428.000000     57470.000000        567.660000                3  \n",
       "4        110.000000     56804.000000        663.060000                3  \n",
       "...             ...              ...               ...              ...  \n",
       "52115    213.380598     84821.246978       1347.831333                2  \n",
       "52116     55.198826     19941.464440        787.081225                1  \n",
       "52117    499.377889     29061.184343       1027.664309                2  \n",
       "52118    385.575002      5767.986961        570.349145                2  \n",
       "52119    531.711701      8285.436835        275.774513                2  \n",
       "\n",
       "[52120 rows x 8 columns]"
      ]
     },
     "execution_count": 122,
     "metadata": {},
     "output_type": "execute_result"
    }
   ],
   "source": [
    "# Get columns\n",
    "cols = selector.get_support(indices=True)\n",
    "train_idv = train_idv.iloc[:,cols]\n",
    "train_idv"
   ]
  },
  {
   "cell_type": "code",
   "execution_count": 124,
   "metadata": {},
   "outputs": [
    {
     "data": {
      "text/plain": [
       "Index(['avg_time_spent', 'avg_transaction_value', 'gender',\n",
       "       'joined_through_referral', 'joining_date', 'last_visit_time',\n",
       "       'points_in_wallet', 'region_category'],\n",
       "      dtype='object')"
      ]
     },
     "execution_count": 124,
     "metadata": {},
     "output_type": "execute_result"
    }
   ],
   "source": [
    "train_idv.columns"
   ]
  },
  {
   "cell_type": "markdown",
   "metadata": {},
   "source": [
    "### Estimate"
   ]
  },
  {
   "cell_type": "markdown",
   "metadata": {},
   "source": [
    "Estimate churn_risk_score for test data set"
   ]
  },
  {
   "cell_type": "code",
   "execution_count": 38,
   "metadata": {},
   "outputs": [
    {
     "name": "stdout",
     "output_type": "stream",
     "text": [
      "customer_id\n",
      "fffe43004900440031003700300030003400    3.0\n",
      "fffe43004900440031003900370037003300    4.0\n",
      "fffe43004900440034003800360037003000    3.0\n",
      "fffe43004900440036003200370033003400    4.0\n",
      "fffe43004900440035003000370031003900    3.0\n",
      "                                       ... \n",
      "fffe43004900440035003600330037003800    5.0\n",
      "fffe43004900440032003900370037003100    4.0\n",
      "fffe43004900440036003100310036003700    3.0\n",
      "fffe43004900440034003200330033003600    5.0\n",
      "fffe43004900440036003200340030003100    3.0\n",
      "Name: churn_risk_score, Length: 19919, dtype: float64\n"
     ]
    }
   ],
   "source": [
    "estimator.fit(train_idv, train_dv)\n",
    "test['churn_risk_score'] = estimator.predict(test)\n",
    "test.index = test_data['customer_id']\n",
    "print(test['churn_risk_score'])"
   ]
  },
  {
   "cell_type": "code",
   "execution_count": 39,
   "metadata": {},
   "outputs": [
    {
     "data": {
      "text/plain": [
       "customer_id\n",
       "fffe43004900440031003700300030003400    3.0\n",
       "fffe43004900440031003900370037003300    4.0\n",
       "fffe43004900440034003800360037003000    3.0\n",
       "fffe43004900440036003200370033003400    4.0\n",
       "fffe43004900440035003000370031003900    3.0\n",
       "                                       ... \n",
       "fffe43004900440035003600330037003800    5.0\n",
       "fffe43004900440032003900370037003100    4.0\n",
       "fffe43004900440036003100310036003700    3.0\n",
       "fffe43004900440034003200330033003600    5.0\n",
       "fffe43004900440036003200340030003100    3.0\n",
       "Name: churn_risk_score, Length: 19919, dtype: float64"
      ]
     },
     "execution_count": 39,
     "metadata": {},
     "output_type": "execute_result"
    }
   ],
   "source": [
    "test['churn_risk_score']"
   ]
  },
  {
   "cell_type": "code",
   "execution_count": null,
   "metadata": {},
   "outputs": [],
   "source": []
  }
 ],
 "metadata": {
  "kernelspec": {
   "display_name": "E_Kaggle",
   "language": "python",
   "name": "e_kaggle"
  },
  "language_info": {
   "codemirror_mode": {
    "name": "ipython",
    "version": 3
   },
   "file_extension": ".py",
   "mimetype": "text/x-python",
   "name": "python",
   "nbconvert_exporter": "python",
   "pygments_lexer": "ipython3",
   "version": "3.8.5"
  }
 },
 "nbformat": 4,
 "nbformat_minor": 4
}
